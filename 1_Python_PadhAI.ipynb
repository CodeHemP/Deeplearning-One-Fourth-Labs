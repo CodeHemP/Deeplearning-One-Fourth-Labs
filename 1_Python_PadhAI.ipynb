{
  "nbformat": 4,
  "nbformat_minor": 0,
  "metadata": {
    "colab": {
      "name": "1.Python_PadhAI.ipynb",
      "version": "0.3.2",
      "provenance": [],
      "toc_visible": true
    },
    "kernelspec": {
      "name": "python3",
      "display_name": "Python 3"
    },
    "accelerator": "GPU"
  },
  "cells": [
    {
      "metadata": {
        "id": "sOq81zFs_qmI",
        "colab_type": "text"
      },
      "cell_type": "markdown",
      "source": [
        "# Simple Data types and Operaters"
      ]
    },
    {
      "metadata": {
        "colab_type": "code",
        "id": "ydHMc4FG_56N",
        "colab": {}
      },
      "cell_type": "code",
      "source": [
        "name = 'iPhone 5s'    #assining a varible a  name "
      ],
      "execution_count": 0,
      "outputs": []
    },
    {
      "metadata": {
        "colab_type": "code",
        "id": "fSJl5JNz_56a",
        "outputId": "6e03394d-054d-4a0b-f8e2-a6ab8c0dc66f",
        "colab": {
          "base_uri": "https://localhost:8080/",
          "height": 34
        }
      },
      "cell_type": "code",
      "source": [
        "type(name)"
      ],
      "execution_count": 2,
      "outputs": [
        {
          "output_type": "execute_result",
          "data": {
            "text/plain": [
              "str"
            ]
          },
          "metadata": {
            "tags": []
          },
          "execution_count": 2
        }
      ]
    },
    {
      "metadata": {
        "colab_type": "code",
        "id": "4vnWMggl_56y",
        "outputId": "07d863c3-5e4f-4fc0-fb8c-eeb8c5ce6d04",
        "colab": {
          "base_uri": "https://localhost:8080/"
        }
      },
      "cell_type": "code",
      "source": [
        "print(name)"
      ],
      "execution_count": 0,
      "outputs": [
        {
          "output_type": "stream",
          "text": [
            "iPhone 5s\n"
          ],
          "name": "stdout"
        }
      ]
    },
    {
      "metadata": {
        "colab_type": "code",
        "id": "oSltyV0P_57B",
        "outputId": "fd587df0-25eb-4da3-ea05-243666983cca",
        "colab": {
          "base_uri": "https://localhost:8080/"
        }
      },
      "cell_type": "code",
      "source": [
        "screen_size = 4.3\n",
        "type(screen_size)"
      ],
      "execution_count": 0,
      "outputs": [
        {
          "output_type": "execute_result",
          "data": {
            "text/plain": [
              "float"
            ]
          },
          "metadata": {
            "tags": []
          },
          "execution_count": 5
        }
      ]
    },
    {
      "metadata": {
        "colab_type": "code",
        "id": "sfK5o3ZH_57I",
        "colab": {}
      },
      "cell_type": "code",
      "source": [
        "num_of_speaker = 1"
      ],
      "execution_count": 0,
      "outputs": []
    },
    {
      "metadata": {
        "colab_type": "code",
        "id": "56RVSN9j_57L",
        "outputId": "51500bf3-8ec5-433e-f222-befe0025bbd6",
        "colab": {
          "base_uri": "https://localhost:8080/"
        }
      },
      "cell_type": "code",
      "source": [
        "type(num_of_speaker)"
      ],
      "execution_count": 0,
      "outputs": [
        {
          "output_type": "execute_result",
          "data": {
            "text/plain": [
              "int"
            ]
          },
          "metadata": {
            "tags": []
          },
          "execution_count": 7
        }
      ]
    },
    {
      "metadata": {
        "colab_type": "code",
        "id": "cT-H7UIv_57O",
        "outputId": "25b31f29-83da-4fc8-9247-96cdaed5fb63",
        "colab": {
          "base_uri": "https://localhost:8080/"
        }
      },
      "cell_type": "code",
      "source": [
        "print(' I just bought an '+ name)"
      ],
      "execution_count": 0,
      "outputs": [
        {
          "output_type": "stream",
          "text": [
            " I just bought an iPhone 5s\n"
          ],
          "name": "stdout"
        }
      ]
    },
    {
      "metadata": {
        "colab_type": "code",
        "id": "YEzHt9Ci_57U",
        "outputId": "c0aecbe8-18e2-4c0e-d115-b8100ad96c9f",
        "colab": {
          "base_uri": "https://localhost:8080/"
        }
      },
      "cell_type": "code",
      "source": [
        "a = 9\n",
        "b = 2\n",
        "print(a*b, a/b, a+b, a-b, a**b, a//b, a%b)"
      ],
      "execution_count": 0,
      "outputs": [
        {
          "output_type": "stream",
          "text": [
            "18 4.5 11 7 81 4 1\n"
          ],
          "name": "stdout"
        }
      ]
    },
    {
      "metadata": {
        "colab_type": "code",
        "id": "KKmpEfQY_57Z",
        "outputId": "4f733bcd-da56-4f88-dd8c-a8bd04e776aa",
        "colab": {
          "base_uri": "https://localhost:8080/"
        }
      },
      "cell_type": "code",
      "source": [
        "is_android = False\n",
        "type(is_android)"
      ],
      "execution_count": 0,
      "outputs": [
        {
          "output_type": "execute_result",
          "data": {
            "text/plain": [
              "bool"
            ]
          },
          "metadata": {
            "tags": []
          },
          "execution_count": 10
        }
      ]
    },
    {
      "metadata": {
        "colab_type": "code",
        "id": "GemWbZEF_57i",
        "outputId": "3ea873eb-087a-4dcd-bdb3-bae768d48431",
        "colab": {
          "base_uri": "https://localhost:8080/"
        }
      },
      "cell_type": "code",
      "source": [
        "print (is_android == False and num_of_speaker > 1)"
      ],
      "execution_count": 0,
      "outputs": [
        {
          "output_type": "stream",
          "text": [
            "False\n"
          ],
          "name": "stdout"
        }
      ]
    },
    {
      "metadata": {
        "id": "JV1rIB_0AXx_",
        "colab_type": "text"
      },
      "cell_type": "markdown",
      "source": [
        "# Code Blocks - if, For, While"
      ]
    },
    {
      "metadata": {
        "id": "QvY_P8fVwDXk",
        "colab_type": "code",
        "outputId": "2b78a399-245d-4fa4-d78d-bb2f2521bbec",
        "colab": {
          "base_uri": "https://localhost:8080/"
        }
      },
      "cell_type": "code",
      "source": [
        "if is_android == True:\n",
        "  print(name + ' support Android')\n",
        "  print('continuing to print inside the if block')\n",
        "print('printing this outside the block')\n"
      ],
      "execution_count": 0,
      "outputs": [
        {
          "output_type": "stream",
          "text": [
            "printing this outside the block\n"
          ],
          "name": "stdout"
        }
      ]
    },
    {
      "metadata": {
        "id": "xo8QeP0WwynK",
        "colab_type": "code",
        "outputId": "ba99d1d1-c4f7-4507-d1a9-f7e04a89f36c",
        "colab": {
          "base_uri": "https://localhost:8080/"
        }
      },
      "cell_type": "code",
      "source": [
        "for i in range (5):\n",
        "  print(i, i**2)"
      ],
      "execution_count": 0,
      "outputs": [
        {
          "output_type": "stream",
          "text": [
            "0 0\n",
            "1 1\n",
            "2 4\n",
            "3 9\n",
            "4 16\n"
          ],
          "name": "stdout"
        }
      ]
    },
    {
      "metadata": {
        "id": "4wSBXVXtxLuF",
        "colab_type": "code",
        "colab": {}
      },
      "cell_type": "code",
      "source": [
        "range?"
      ],
      "execution_count": 0,
      "outputs": []
    },
    {
      "metadata": {
        "id": "31bWdjRNxPOC",
        "colab_type": "code",
        "outputId": "054c8749-437b-4882-f8a8-afc736c9642d",
        "colab": {
          "base_uri": "https://localhost:8080/"
        }
      },
      "cell_type": "code",
      "source": [
        "i = 0\n",
        "while i < 5:\n",
        "  print(i, i**3)\n",
        "  i += 1  # Equvilant to i = i + 1"
      ],
      "execution_count": 0,
      "outputs": [
        {
          "output_type": "stream",
          "text": [
            "0 0\n",
            "1 1\n",
            "2 8\n",
            "3 27\n",
            "4 64\n"
          ],
          "name": "stdout"
        }
      ]
    },
    {
      "metadata": {
        "id": "q-2O3VN1A1U-",
        "colab_type": "text"
      },
      "cell_type": "markdown",
      "source": [
        "# Functions"
      ]
    },
    {
      "metadata": {
        "colab_type": "text",
        "id": "vA5qlXwVE-B8"
      },
      "cell_type": "markdown",
      "source": [
        "\n",
        "**Functions in Python**\n",
        "\n",
        "A function is a set of statements that take inputs, do some specific computation and produces output. The idea is to put some commonly or repeatedly done task together and make a function, so that instead of writing the same code again and again for different inputs, we can call the function.\n",
        "Python provides built-in functions like print(), etc. but we can also create your own functions. These functions are called user-defined functions"
      ]
    },
    {
      "metadata": {
        "id": "5UgAVYOoDmoP",
        "colab_type": "code",
        "outputId": "b4c200db-65fe-4166-a70a-8d778616255e",
        "colab": {
          "base_uri": "https://localhost:8080/"
        }
      },
      "cell_type": "code",
      "source": [
        "# A simple Python function to check \n",
        "# whether x is even or odd \n",
        "def evenOdd( x ): \n",
        "    if (x % 2 == 0): \n",
        "        print (\"even\")\n",
        "    else: \n",
        "        print (\"odd\")\n",
        "  \n",
        "# Driver code \n",
        "evenOdd(2) \n",
        "evenOdd(3) "
      ],
      "execution_count": 0,
      "outputs": [
        {
          "output_type": "stream",
          "text": [
            "even\n",
            "odd\n"
          ],
          "name": "stdout"
        }
      ]
    },
    {
      "metadata": {
        "id": "eD-OQRCNFqGj",
        "colab_type": "text"
      },
      "cell_type": "markdown",
      "source": [
        "**Pass by Reference or pass by value?**\n",
        "\n",
        "One important thing to note is, in Python every variable name is a reference. When we pass a variable to a function, a new reference to the object is created. Parameter passing in Python is same as reference passing in Java."
      ]
    },
    {
      "metadata": {
        "id": "u2hq7I0SDlcA",
        "colab_type": "code",
        "outputId": "0bcc9aea-cf7c-4331-b3e6-d1b37dd9c971",
        "colab": {
          "base_uri": "https://localhost:8080/"
        }
      },
      "cell_type": "code",
      "source": [
        "# Here x is a new reference to same list lst \n",
        "def myFun(x): \n",
        "  x[0] = 20\n",
        "\n",
        "# Driver Code (Note that lst is modified \n",
        "# after function call. \n",
        "lst = [10, 11, 12, 13, 14, 15] \n",
        "myFun(lst); \n",
        "print(lst) \n"
      ],
      "execution_count": 0,
      "outputs": [
        {
          "output_type": "stream",
          "text": [
            "[20, 11, 12, 13, 14, 15]\n"
          ],
          "name": "stdout"
        }
      ]
    },
    {
      "metadata": {
        "id": "9lfui91KGPJo",
        "colab_type": "code",
        "outputId": "92e337b6-304c-4cc0-99c7-f9327acd1a67",
        "colab": {
          "base_uri": "https://localhost:8080/"
        }
      },
      "cell_type": "code",
      "source": [
        "#When we pass a reference and change the received reference to something else,\n",
        "#the connection between passed and received parameter is broken. For example, \n",
        "#consider below program.\n",
        "\n",
        "def myFun(x): \n",
        "\n",
        "# After below line link of x with previous \n",
        "# object gets broken. A new object is assigned \n",
        "# to x. \n",
        "    x = [20, 30, 40] \n",
        "\n",
        "# Driver Code (Note that lst is not modified \n",
        "# after function call. \n",
        "lst = [10, 11, 12, 13, 14, 15] \n",
        "myFun(lst); \n",
        "print(lst) \n"
      ],
      "execution_count": 0,
      "outputs": [
        {
          "output_type": "stream",
          "text": [
            "[10, 11, 12, 13, 14, 15]\n"
          ],
          "name": "stdout"
        }
      ]
    },
    {
      "metadata": {
        "id": "Yn0B3OjhGlZP",
        "colab_type": "code",
        "outputId": "323698de-8442-4e7a-db0f-37eea377be26",
        "colab": {
          "base_uri": "https://localhost:8080/"
        }
      },
      "cell_type": "code",
      "source": [
        "#Another example to demonstrate that reference link is broken if we assign a new value (inside the function).\n",
        "\n",
        "def myFun(x): \n",
        "\n",
        "# After below line link of x with previous \n",
        "# object gets broken. A new object is assigned \n",
        "# to x. \n",
        "    x = 20\n",
        "\n",
        "# Driver Code (Note that lst is not modified \n",
        "# after function call. \n",
        "x = 10\n",
        "myFun(x); \n",
        "print(x) \n"
      ],
      "execution_count": 0,
      "outputs": [
        {
          "output_type": "stream",
          "text": [
            "10\n"
          ],
          "name": "stdout"
        }
      ]
    },
    {
      "metadata": {
        "id": "VU9zrsBGG2pE",
        "colab_type": "code",
        "outputId": "81a9d637-32b3-4a88-b7bf-f79987cfe486",
        "colab": {
          "base_uri": "https://localhost:8080/"
        }
      },
      "cell_type": "code",
      "source": [
        "def swap(x, y): \n",
        "\ttemp = x; \n",
        "\tx = y; \n",
        "\ty = temp; \n",
        "\n",
        "# Driver code \n",
        "x = 2\n",
        "y = 3\n",
        "swap(x, y) \n",
        "print(x) \n",
        "print(y) \n"
      ],
      "execution_count": 0,
      "outputs": [
        {
          "output_type": "stream",
          "text": [
            "2\n",
            "3\n"
          ],
          "name": "stdout"
        }
      ]
    },
    {
      "metadata": {
        "id": "eZyd5MXVHLCO",
        "colab_type": "text"
      },
      "cell_type": "markdown",
      "source": [
        "**Default arguments:**\n",
        "A default argument is a parameter that assumes a default value if a value is not provided in the function call for that argument.The following example illustrates Default arguments."
      ]
    },
    {
      "metadata": {
        "id": "9HX_oMQDHIG8",
        "colab_type": "code",
        "outputId": "e4f07498-2a3c-48f8-b56d-5bf8ed60efe1",
        "colab": {
          "base_uri": "https://localhost:8080/"
        }
      },
      "cell_type": "code",
      "source": [
        "# Python program to demonstrate \n",
        "# default arguments \n",
        "def myFun(x, y=50): \n",
        "\tprint(\"x: \", x) \n",
        "\tprint(\"y: \", y) \n",
        "\n",
        "# Driver code (We call myFun() with only \n",
        "# argument) \n",
        "myFun(10) \n"
      ],
      "execution_count": 0,
      "outputs": [
        {
          "output_type": "stream",
          "text": [
            "x:  10\n",
            "y:  50\n"
          ],
          "name": "stdout"
        }
      ]
    },
    {
      "metadata": {
        "id": "ANsMT_nAHk22",
        "colab_type": "text"
      },
      "cell_type": "markdown",
      "source": [
        "**Keyword arguments:**\n",
        "The idea is to allow caller to specify argument name with values so that caller does not need to remember order of parameters."
      ]
    },
    {
      "metadata": {
        "id": "vlh4U2gjHkIN",
        "colab_type": "code",
        "outputId": "2c3770df-9862-4b62-cd00-81806e442012",
        "colab": {
          "base_uri": "https://localhost:8080/"
        }
      },
      "cell_type": "code",
      "source": [
        "# Python program to demonstrate Keyword Arguments \n",
        "def student(firstname, lastname): \n",
        "\tprint(firstname, lastname) \n",
        "\t\n",
        "\t\n",
        "# Keyword arguments\t\t\t\t \n",
        "student(firstname ='Geeks', lastname ='Practice')\t \n",
        "student(lastname ='Practice', firstname ='Geeks') \n"
      ],
      "execution_count": 0,
      "outputs": [
        {
          "output_type": "stream",
          "text": [
            "Geeks Practice\n",
            "Geeks Practice\n"
          ],
          "name": "stdout"
        }
      ]
    },
    {
      "metadata": {
        "id": "KIoMULviIAZg",
        "colab_type": "text"
      },
      "cell_type": "markdown",
      "source": [
        " **Variable length arguments:**\n",
        "We can have both normal and keyword variable number of arguments. Please see this for details."
      ]
    },
    {
      "metadata": {
        "id": "jSpdgnacH9eh",
        "colab_type": "code",
        "outputId": "1b90e7af-44c3-412d-f0bd-77608ee7aa2a",
        "colab": {
          "base_uri": "https://localhost:8080/"
        }
      },
      "cell_type": "code",
      "source": [
        "# Python program to illustrate \n",
        "# *args for variable number of arguments \n",
        "def myFun(*argv): \n",
        "\tfor arg in argv: \n",
        "\t\tprint (arg) \n",
        "\t\n",
        "myFun('Hello', 'Welcome', 'to', 'GeeksforGeeks') \n"
      ],
      "execution_count": 0,
      "outputs": [
        {
          "output_type": "stream",
          "text": [
            "Hello\n",
            "Welcome\n",
            "to\n",
            "GeeksforGeeks\n"
          ],
          "name": "stdout"
        }
      ]
    },
    {
      "metadata": {
        "id": "jKRZxgZgITEU",
        "colab_type": "code",
        "outputId": "a4303498-fb13-424c-a178-3aae53acf0b9",
        "colab": {
          "base_uri": "https://localhost:8080/"
        }
      },
      "cell_type": "code",
      "source": [
        "# Python program to illustrate \n",
        "# *kargs for variable number of keyword arguments \n",
        "\n",
        "def myFun(**kwargs): \n",
        "\tfor key, value in kwargs.items(): \n",
        "\t\tprint (\"%s == %s\" %(key, value)) \n",
        "\n",
        "# Driver code \n",
        "myFun(first ='Geeks', mid ='for', last='Geeks')\t \n"
      ],
      "execution_count": 0,
      "outputs": [
        {
          "output_type": "stream",
          "text": [
            "first == Geeks\n",
            "mid == for\n",
            "last == Geeks\n"
          ],
          "name": "stdout"
        }
      ]
    },
    {
      "metadata": {
        "id": "SmQvpyQrImWI",
        "colab_type": "text"
      },
      "cell_type": "markdown",
      "source": [
        "***Anonymous functions:*** \n",
        "In Python, anonymous function means that a function is without a name. As we already know that def keyword is used to define the normal functions and the lambda keyword is used to create anonymous functions. Please see this for details."
      ]
    },
    {
      "metadata": {
        "id": "gvCqcthtIlYz",
        "colab_type": "code",
        "outputId": "cf60c2a2-9d1d-4348-a2a5-c779737cb68e",
        "colab": {
          "base_uri": "https://localhost:8080/"
        }
      },
      "cell_type": "code",
      "source": [
        "# Python code to illustrate cube of a number \n",
        "# using labmda function \n",
        "\t\n",
        "cube = lambda x: x*x*x \n",
        "print(cube(7)) \n"
      ],
      "execution_count": 0,
      "outputs": [
        {
          "output_type": "stream",
          "text": [
            "343\n"
          ],
          "name": "stdout"
        }
      ]
    },
    {
      "metadata": {
        "id": "gp22mMcIKteA",
        "colab_type": "text"
      },
      "cell_type": "markdown",
      "source": [
        "**Lambda and filter in Python Examples**\n",
        "\n",
        "We can use Lambda function inside the **filter()** built-in function to find all the numbers divisible by 13 in the list. In Python, anonymous function means that a function is without a name.\n",
        "\n",
        "The **filter() ** function in Python takes in a function and a list as arguments. This offers an elegant way to filter out all the elements of a sequence “sequence”, for which the function returns True."
      ]
    },
    {
      "metadata": {
        "id": "tq2xMSdYKpfB",
        "colab_type": "code",
        "outputId": "bca9fff2-d9ff-4859-b79a-f87e0fd5f2c4",
        "colab": {
          "base_uri": "https://localhost:8080/"
        }
      },
      "cell_type": "code",
      "source": [
        "# Python Program to find numbers divisible \n",
        "# by thirteen from a list using anonymous \n",
        "# function \n",
        "\n",
        "# Take a list of numbers. \n",
        "my_list = [12, 65, 54, 39, 102, 339, 221, 50, 70, ] \n",
        "\n",
        "# use anonymous function to filter and comparing \n",
        "# if divisible or not \n",
        "result = list(filter(lambda x: (x % 13 == 0), my_list)) \n",
        "\n",
        "# printing the result \n",
        "print(result) \n"
      ],
      "execution_count": 0,
      "outputs": [
        {
          "output_type": "stream",
          "text": [
            "[65, 39, 221]\n"
          ],
          "name": "stdout"
        }
      ]
    },
    {
      "metadata": {
        "id": "HEL66zM_NBSm",
        "colab_type": "code",
        "outputId": "469767c5-0b66-4c40-a805-1ea1dd12ffea",
        "colab": {
          "base_uri": "https://localhost:8080/"
        }
      },
      "cell_type": "code",
      "source": [
        "# Python Program to find palindromes in \n",
        "# a list of strings. \n",
        "\n",
        "my_list = [\"geeks\", \"geeg\", \"keek\", \"practice\", \"aa\"] \n",
        "\n",
        "# use anonymous function to filter palindromes. \n",
        "# Please refer below article for details of reversed \n",
        "# https://www.geeksforgeeks.org/reverse-string-python-5-different-ways/ \n",
        "\n",
        "result = list(filter(lambda x: (x == \"\".join(reversed(x))), my_list)) \n",
        "\n",
        "# printing the result \n",
        "print(result) \n"
      ],
      "execution_count": 0,
      "outputs": [
        {
          "output_type": "stream",
          "text": [
            "['geeg', 'keek', 'aa']\n"
          ],
          "name": "stdout"
        }
      ]
    },
    {
      "metadata": {
        "id": "KWgJHz8VTvFr",
        "colab_type": "code",
        "outputId": "eb1ff37b-d5dc-427b-a89a-73067c282a40",
        "colab": {
          "base_uri": "https://localhost:8080/"
        }
      },
      "cell_type": "code",
      "source": [
        "# Function to rearrange positive and negative elements \n",
        "def Rearrange(arr): \n",
        "\n",
        "\t# First lambda expression returns list of negative numbers \n",
        "\t# in arr. \n",
        "\t# Second lambda expression returns list of positive numbers \n",
        "\t# in arr. \n",
        "\treturn [x for x in arr if x < 0] + [x for x in arr if x >= 0] \n",
        "\n",
        "# Driver function \n",
        "if __name__ == \"__main__\": \n",
        "\tarr = [12, 11, -13, -5, 6, -7, 5, -3, -6] \n",
        "\tprint Rearrange(arr) \n",
        "  \n",
        "#Output: arr[] = [-13, -5, -7, -3, -6, 12, 11, 6, 5]  "
      ],
      "execution_count": 0,
      "outputs": [
        {
          "output_type": "error",
          "ename": "SyntaxError",
          "evalue": "ignored",
          "traceback": [
            "\u001b[0;36m  File \u001b[0;32m\"<ipython-input-28-4174d8921d16>\"\u001b[0;36m, line \u001b[0;32m12\u001b[0m\n\u001b[0;31m    print Rearrange(arr)\u001b[0m\n\u001b[0m                  ^\u001b[0m\n\u001b[0;31mSyntaxError\u001b[0m\u001b[0;31m:\u001b[0m invalid syntax\n"
          ]
        }
      ]
    },
    {
      "metadata": {
        "id": "MoQbaMbzyEKe",
        "colab_type": "code",
        "colab": {}
      },
      "cell_type": "code",
      "source": [
        "def print_square(stop_val):\n",
        "  for i in range (stop_val):\n",
        "    print (i , i**2)"
      ],
      "execution_count": 0,
      "outputs": []
    },
    {
      "metadata": {
        "id": "NXriisA6yfMo",
        "colab_type": "code",
        "colab": {}
      },
      "cell_type": "code",
      "source": [
        "print_square(4)"
      ],
      "execution_count": 0,
      "outputs": []
    },
    {
      "metadata": {
        "id": "h3HzXblSylu9",
        "colab_type": "code",
        "colab": {}
      },
      "cell_type": "code",
      "source": [
        "def sum_of_number(stop_val):\n",
        "  sum_ = 0\n",
        "  for i in range(stop_val):\n",
        "    sum_ += i**2\n",
        "  return sum_"
      ],
      "execution_count": 0,
      "outputs": []
    },
    {
      "metadata": {
        "id": "0zMALt9hzZi2",
        "colab_type": "code",
        "colab": {}
      },
      "cell_type": "code",
      "source": [
        "sum_of_number(5)"
      ],
      "execution_count": 0,
      "outputs": []
    },
    {
      "metadata": {
        "id": "-Ph6MtK6zgFd",
        "colab_type": "code",
        "colab": {}
      },
      "cell_type": "code",
      "source": [
        "sum_5 = sum_of_number(5)"
      ],
      "execution_count": 0,
      "outputs": []
    },
    {
      "metadata": {
        "id": "0XMZ5k_zzveX",
        "colab_type": "code",
        "colab": {}
      },
      "cell_type": "code",
      "source": [
        "print(sum_5)"
      ],
      "execution_count": 0,
      "outputs": []
    },
    {
      "metadata": {
        "colab_type": "code",
        "id": "MVaTn5143qHN",
        "colab": {}
      },
      "cell_type": "code",
      "source": [
        "def print_square_with_start_val(stop_val, start_val = 0):\n",
        "  \"\"\" Print the squares of number from start_val (inclusive) and ending with stop_val(exclusive)\"\"\"\n",
        "  for i in range(start_val, stop_val):\n",
        "    print (i, i**2)"
      ],
      "execution_count": 0,
      "outputs": []
    },
    {
      "metadata": {
        "id": "9zTvUQjE0TVu",
        "colab_type": "code",
        "colab": {}
      },
      "cell_type": "code",
      "source": [
        "print_square_with_start_val(5, 2)"
      ],
      "execution_count": 0,
      "outputs": []
    },
    {
      "metadata": {
        "id": "KXejINAf08qQ",
        "colab_type": "code",
        "colab": {}
      },
      "cell_type": "code",
      "source": [
        "help(print_square_with_start_val)"
      ],
      "execution_count": 0,
      "outputs": []
    },
    {
      "metadata": {
        "id": "J0l56U1R6oLC",
        "colab_type": "code",
        "colab": {}
      },
      "cell_type": "code",
      "source": [
        "print_square_with_start_val?"
      ],
      "execution_count": 0,
      "outputs": []
    },
    {
      "metadata": {
        "id": "oqK-g6t4BVZ-",
        "colab_type": "text"
      },
      "cell_type": "markdown",
      "source": [
        "# List"
      ]
    },
    {
      "metadata": {
        "id": "h8e47DKx6lNB",
        "colab_type": "text"
      },
      "cell_type": "markdown",
      "source": [
        "\n",
        "**Python map() function**\n",
        "\n",
        "map() function returns a list of the results after applying the given function to each item of a given iterable (list, tuple etc.)\n",
        "\n",
        "**Syntax :**\n",
        "`map(fun, iter)`\n",
        "\n",
        "**Parameters :**\n",
        "**fun :** It is a function to which map passes each element of given iterable.\n",
        "**iter :** It is a iterable which is to be mapped.\n",
        "\n",
        "**NOTE : **The returned value from map() (map object) then can be passed to functions like list() (to create a list), set() (to create a set) .\n",
        "\n",
        "\n",
        "\n",
        "\n"
      ]
    },
    {
      "metadata": {
        "id": "JO4SLI2V84kl",
        "colab_type": "text"
      },
      "cell_type": "markdown",
      "source": [
        "**CODE 1**"
      ]
    },
    {
      "metadata": {
        "id": "BlQmsyR97i0e",
        "colab_type": "code",
        "colab": {}
      },
      "cell_type": "code",
      "source": [
        "# Python program to demonstrate working of map. \n",
        "\n",
        "# Return double of n \n",
        "\n",
        "def addition(n): \n",
        "\treturn n + n \n",
        "\n",
        "# We double all numbers using map() \n",
        "\n",
        "numbers = (1, 2, 3, 4) \n",
        "result = map(addition, numbers) \n",
        "print(list(result)) \n"
      ],
      "execution_count": 0,
      "outputs": []
    },
    {
      "metadata": {
        "id": "ZjmFzKgU8CA9",
        "colab_type": "text"
      },
      "cell_type": "markdown",
      "source": [
        "**CODE 2**\n",
        "\n",
        "We can also use lambda expressions with map to achieve above result."
      ]
    },
    {
      "metadata": {
        "id": "gt9eQmAl8Ens",
        "colab_type": "code",
        "colab": {}
      },
      "cell_type": "code",
      "source": [
        "# Double all numbers using map and lambda \n",
        "\n",
        "numbers = (1, 2, 3, 4) \n",
        "result = map(lambda x: x + x, numbers) \n",
        "print(list(result)) \n"
      ],
      "execution_count": 0,
      "outputs": []
    },
    {
      "metadata": {
        "colab_type": "text",
        "id": "OIC4zRJg8U6C"
      },
      "cell_type": "markdown",
      "source": [
        "**CODE 3**\n"
      ]
    },
    {
      "metadata": {
        "id": "Vvw6Qx0k8LOh",
        "colab_type": "code",
        "colab": {}
      },
      "cell_type": "code",
      "source": [
        "# Add two lists using map and lambda \n",
        "\n",
        "numbers1 = [1, 2, 3] \n",
        "numbers2 = [4, 5, 6] \n",
        "\n",
        "result = map(lambda x, y: x + y, numbers1, numbers2) \n",
        "print(list(result)) \n"
      ],
      "execution_count": 0,
      "outputs": []
    },
    {
      "metadata": {
        "id": "5JMKopA48fjT",
        "colab_type": "text"
      },
      "cell_type": "markdown",
      "source": [
        "**CODE 4**"
      ]
    },
    {
      "metadata": {
        "id": "hj81EUUV8hxY",
        "colab_type": "code",
        "colab": {}
      },
      "cell_type": "code",
      "source": [
        "# List of strings \n",
        "l = ['sat', 'bat', 'cat', 'mat'] \n",
        "\n",
        "# map() can listify the list of strings individually \n",
        "test = list(map(list, l)) \n",
        "print(test) \n"
      ],
      "execution_count": 0,
      "outputs": []
    },
    {
      "metadata": {
        "id": "xz65mwKeBbAi",
        "colab_type": "code",
        "colab": {}
      },
      "cell_type": "code",
      "source": [
        "my_phone = [name, is_android, screen_size]"
      ],
      "execution_count": 0,
      "outputs": []
    },
    {
      "metadata": {
        "id": "whKMXgOGBmTN",
        "colab_type": "code",
        "colab": {}
      },
      "cell_type": "code",
      "source": [
        "type(my_phone)"
      ],
      "execution_count": 0,
      "outputs": []
    },
    {
      "metadata": {
        "id": "qLPo2kixBqJK",
        "colab_type": "code",
        "colab": {}
      },
      "cell_type": "code",
      "source": [
        "print(my_phone)\n"
      ],
      "execution_count": 0,
      "outputs": []
    },
    {
      "metadata": {
        "id": "Y3QPKhK5Bzdk",
        "colab_type": "code",
        "colab": {}
      },
      "cell_type": "code",
      "source": [
        "my_phone[0]"
      ],
      "execution_count": 0,
      "outputs": []
    },
    {
      "metadata": {
        "colab_type": "code",
        "id": "o_9TfPmyCz7S",
        "colab": {}
      },
      "cell_type": "code",
      "source": [
        "type(my_phone[0])"
      ],
      "execution_count": 0,
      "outputs": []
    },
    {
      "metadata": {
        "id": "C517rxgKCKzu",
        "colab_type": "code",
        "colab": {}
      },
      "cell_type": "code",
      "source": [
        "my_phone[0:2]"
      ],
      "execution_count": 0,
      "outputs": []
    },
    {
      "metadata": {
        "id": "vSGKR1zeCW7f",
        "colab_type": "code",
        "colab": {}
      },
      "cell_type": "code",
      "source": [
        "my_dad_phone = my_phone\n",
        "print(my_dad_phone)"
      ],
      "execution_count": 0,
      "outputs": []
    },
    {
      "metadata": {
        "id": "8eZD-zdiC92H",
        "colab_type": "code",
        "colab": {}
      },
      "cell_type": "code",
      "source": [
        "my_phone[1:3]"
      ],
      "execution_count": 0,
      "outputs": []
    },
    {
      "metadata": {
        "id": "YNHQiuHrDIoU",
        "colab_type": "code",
        "colab": {}
      },
      "cell_type": "code",
      "source": [
        "my_phone[2] = 4"
      ],
      "execution_count": 0,
      "outputs": []
    },
    {
      "metadata": {
        "id": "2KkVDtSUDb6r",
        "colab_type": "code",
        "colab": {}
      },
      "cell_type": "code",
      "source": [
        "print(my_phone)"
      ],
      "execution_count": 0,
      "outputs": []
    },
    {
      "metadata": {
        "id": "8HMhSWsdDqba",
        "colab_type": "code",
        "colab": {}
      },
      "cell_type": "code",
      "source": [
        "print(my_dad_phone)"
      ],
      "execution_count": 0,
      "outputs": []
    },
    {
      "metadata": {
        "id": "9D2XdPfCDwip",
        "colab_type": "code",
        "colab": {}
      },
      "cell_type": "code",
      "source": [
        "#to do the deep copy which avoide this kind overwriting\n",
        "my_dad_phone = list(my_phone)\n",
        "# my_dads_phone = my_phone[:]"
      ],
      "execution_count": 0,
      "outputs": []
    },
    {
      "metadata": {
        "id": "WX7ifG3aUnGT",
        "colab_type": "code",
        "colab": {}
      },
      "cell_type": "code",
      "source": [
        "my_phone[2] = 4.3"
      ],
      "execution_count": 0,
      "outputs": []
    },
    {
      "metadata": {
        "id": "4ATa_gSxFGk_",
        "colab_type": "code",
        "colab": {}
      },
      "cell_type": "code",
      "source": [
        "print(my_phone)\n",
        "print(my_dad_phone)"
      ],
      "execution_count": 0,
      "outputs": []
    },
    {
      "metadata": {
        "id": "de9mZc03FRd8",
        "colab_type": "code",
        "colab": {}
      },
      "cell_type": "code",
      "source": [
        "len(my_phone)"
      ],
      "execution_count": 0,
      "outputs": []
    },
    {
      "metadata": {
        "id": "s6hTNpbKU-yS",
        "colab_type": "code",
        "colab": {}
      },
      "cell_type": "code",
      "source": [
        "len?"
      ],
      "execution_count": 0,
      "outputs": []
    },
    {
      "metadata": {
        "id": "VlIjET4aVBti",
        "colab_type": "code",
        "colab": {}
      },
      "cell_type": "code",
      "source": [
        "my_phone.append('3G')"
      ],
      "execution_count": 0,
      "outputs": []
    },
    {
      "metadata": {
        "id": "UmMYGgK6VPyY",
        "colab_type": "code",
        "colab": {}
      },
      "cell_type": "code",
      "source": [
        "print(my_phone)"
      ],
      "execution_count": 0,
      "outputs": []
    },
    {
      "metadata": {
        "id": "pz8hJ0RvVTVG",
        "colab_type": "code",
        "colab": {}
      },
      "cell_type": "code",
      "source": [
        "len(my_phone)"
      ],
      "execution_count": 0,
      "outputs": []
    },
    {
      "metadata": {
        "id": "AAK6KVZ_VXIz",
        "colab_type": "code",
        "colab": {}
      },
      "cell_type": "code",
      "source": [
        "iphone5s_some_prefs = ['single_sim' , 35000 ]"
      ],
      "execution_count": 0,
      "outputs": []
    },
    {
      "metadata": {
        "id": "9QvbVO8aVn8b",
        "colab_type": "code",
        "colab": {}
      },
      "cell_type": "code",
      "source": [
        "my_phone = my_phone + iphone5s_some_prefs"
      ],
      "execution_count": 0,
      "outputs": []
    },
    {
      "metadata": {
        "id": "eXJ_RABJVzC1",
        "colab_type": "code",
        "colab": {}
      },
      "cell_type": "code",
      "source": [
        "print(my_phone)"
      ],
      "execution_count": 0,
      "outputs": []
    },
    {
      "metadata": {
        "id": "Mb82oGRpV6Rb",
        "colab_type": "code",
        "colab": {}
      },
      "cell_type": "code",
      "source": [
        "for data in my_phone:\n",
        "  print(data)"
      ],
      "execution_count": 0,
      "outputs": []
    },
    {
      "metadata": {
        "id": "Ot1_2ov1WIn2",
        "colab_type": "code",
        "colab": {}
      },
      "cell_type": "code",
      "source": [
        "range(5)"
      ],
      "execution_count": 0,
      "outputs": []
    },
    {
      "metadata": {
        "id": "4y8FezwhWPSB",
        "colab_type": "code",
        "colab": {}
      },
      "cell_type": "code",
      "source": [
        "print(list(range(5)))"
      ],
      "execution_count": 0,
      "outputs": []
    },
    {
      "metadata": {
        "id": "4oU_cRn8WWHi",
        "colab_type": "code",
        "colab": {}
      },
      "cell_type": "code",
      "source": [
        "a = list(range(5))\n",
        "print(a)"
      ],
      "execution_count": 0,
      "outputs": []
    },
    {
      "metadata": {
        "id": "U303bim5WmNr",
        "colab_type": "code",
        "colab": {}
      },
      "cell_type": "code",
      "source": [
        "b = list(map(lambda x: x**2, a))  \n",
        "print(b)"
      ],
      "execution_count": 0,
      "outputs": []
    },
    {
      "metadata": {
        "colab_type": "code",
        "id": "9Vzti4pG5dF6",
        "colab": {}
      },
      "cell_type": "code",
      "source": [
        "# filter operater\n",
        "c = list(filter(lambda x: x % 2 ==0, b))\n",
        "print(c)"
      ],
      "execution_count": 0,
      "outputs": []
    },
    {
      "metadata": {
        "id": "6Ao87ADBU7yF",
        "colab_type": "code",
        "colab": {}
      },
      "cell_type": "code",
      "source": [
        "print(my_phone)\n",
        "type(my_phone)"
      ],
      "execution_count": 0,
      "outputs": []
    },
    {
      "metadata": {
        "id": "0amvE4_bezlo",
        "colab_type": "text"
      },
      "cell_type": "markdown",
      "source": [
        "#Tuple sets and Dictionary"
      ]
    },
    {
      "metadata": {
        "id": "_q3OQJaRVhgm",
        "colab_type": "code",
        "colab": {}
      },
      "cell_type": "code",
      "source": [
        "my_phone_tuple = ('iPhone 5s' , False, 4.3)\n",
        "print(my_phone_tuple)\n",
        "type(my_phone_tuple)"
      ],
      "execution_count": 0,
      "outputs": []
    },
    {
      "metadata": {
        "id": "zVaeJSWWWLP7",
        "colab_type": "code",
        "colab": {}
      },
      "cell_type": "code",
      "source": [
        "my_phone_tuple[0:2]"
      ],
      "execution_count": 0,
      "outputs": []
    },
    {
      "metadata": {
        "id": "POjohe7UWYLJ",
        "colab_type": "code",
        "colab": {}
      },
      "cell_type": "code",
      "source": [
        "for data in my_phone_tuple:\n",
        "  print(data)"
      ],
      "execution_count": 0,
      "outputs": []
    },
    {
      "metadata": {
        "id": "tIYNyhQ6Wk_w",
        "colab_type": "code",
        "colab": {}
      },
      "cell_type": "code",
      "source": [
        "my_phone_tuple[2] = 4"
      ],
      "execution_count": 0,
      "outputs": []
    },
    {
      "metadata": {
        "id": "u-IvNnADXaOO",
        "colab_type": "text"
      },
      "cell_type": "markdown",
      "source": [
        "why we are going to have one more  data type like **tuple**?"
      ]
    },
    {
      "metadata": {
        "id": "sJn3QkfNWrai",
        "colab_type": "code",
        "colab": {}
      },
      "cell_type": "code",
      "source": [
        "import time \n",
        "\n",
        "# package import ...it is the mechanism by which we include certain libraries...and make use of the functionality they provide\n"
      ],
      "execution_count": 0,
      "outputs": []
    },
    {
      "metadata": {
        "id": "KCsOsUfbXSOQ",
        "colab_type": "code",
        "colab": {}
      },
      "cell_type": "code",
      "source": [
        "tic = time.time()\n",
        "print(tic)"
      ],
      "execution_count": 0,
      "outputs": []
    },
    {
      "metadata": {
        "id": "FAuQTBjMYgbW",
        "colab_type": "code",
        "colab": {}
      },
      "cell_type": "code",
      "source": [
        "time.time?  #Return the current time in seconds since the Epoch. Fractions of a second may be present if the system clock provides them."
      ],
      "execution_count": 0,
      "outputs": []
    },
    {
      "metadata": {
        "id": "sR7h5Mz-Ymeb",
        "colab_type": "code",
        "colab": {}
      },
      "cell_type": "code",
      "source": [
        "tic = time.time()\n",
        "# do something that takes time that is to be measured\n",
        "toc = time.time()\n",
        "print(\"Elapsed time in seconds\" , toc - tic)"
      ],
      "execution_count": 0,
      "outputs": []
    },
    {
      "metadata": {
        "id": "mxxZyW2CZf_W",
        "colab_type": "code",
        "colab": {}
      },
      "cell_type": "code",
      "source": [
        "# why we have data type like tuple--e.g -->>\n",
        "#tuple take slightly shorter time when compare with list\n",
        "#list operation becoz they are mutable are slower then tuple\n",
        "\n",
        "\n",
        "my_list = list(range(1000000))\n",
        "tic = time.time()\n",
        "my_list_squared = map(lambda i: i**2, my_list)\n",
        "toc = time.time()\n",
        "print(\"Elapsed time in seconds\" , toc - tic)"
      ],
      "execution_count": 0,
      "outputs": []
    },
    {
      "metadata": {
        "id": "H8FrGd1KaY-_",
        "colab_type": "code",
        "colab": {}
      },
      "cell_type": "code",
      "source": [
        "my_tuple = tuple(range(1000000))\n",
        "tic = time.time()\n",
        "my_tuple_squared = map(lambda i: i**2, my_tuple)\n",
        "toc = time.time()\n",
        "print(\"Elapsed time in seconds\" , toc - tic)"
      ],
      "execution_count": 0,
      "outputs": []
    },
    {
      "metadata": {
        "id": "hVSeuM8Ee-m6",
        "colab_type": "code",
        "colab": {}
      },
      "cell_type": "code",
      "source": [
        "my_set = set(my_phone)"
      ],
      "execution_count": 0,
      "outputs": []
    },
    {
      "metadata": {
        "id": "pzR8FdKmfFQp",
        "colab_type": "code",
        "colab": {}
      },
      "cell_type": "code",
      "source": [
        "print(my_set)\n",
        "type(my_set)"
      ],
      "execution_count": 0,
      "outputs": []
    },
    {
      "metadata": {
        "id": "6KGL40pufLwb",
        "colab_type": "code",
        "colab": {}
      },
      "cell_type": "code",
      "source": [
        "my_phone.append(4.3)"
      ],
      "execution_count": 0,
      "outputs": []
    },
    {
      "metadata": {
        "id": "5JaIswTjff9a",
        "colab_type": "code",
        "colab": {}
      },
      "cell_type": "code",
      "source": [
        "print(my_phone)"
      ],
      "execution_count": 0,
      "outputs": []
    },
    {
      "metadata": {
        "id": "tDEUipUhfivE",
        "colab_type": "code",
        "colab": {}
      },
      "cell_type": "code",
      "source": [
        "my_set = set(my_phone)\n",
        "print(my_set)\n",
        "\n",
        "# 4.3 is now not present in the output becoz  set only can contain the uniqe item in the given list"
      ],
      "execution_count": 0,
      "outputs": []
    },
    {
      "metadata": {
        "id": "_K7wGEgWf1Zk",
        "colab_type": "code",
        "colab": {}
      },
      "cell_type": "code",
      "source": [
        "my_list = list(range(1000000))\n",
        "tic = time.time()\n",
        "print(98731 in my_list)\n",
        "print(131591 in my_list )\n",
        "print(111111111111111111 in my_list)\n",
        "toc = time.time()\n",
        "print('Elapsed time' , toc - tic)\n"
      ],
      "execution_count": 0,
      "outputs": []
    },
    {
      "metadata": {
        "id": "Xb5kvfiChvCN",
        "colab_type": "code",
        "colab": {}
      },
      "cell_type": "code",
      "source": [
        "my_set = set(range(1000000))\n",
        "tic = time.time()\n",
        "print(98731 in my_set)\n",
        "print(131591 in my_set )\n",
        "print(111111111111111111 in my_set)\n",
        "toc = time.time()\n",
        "print('Elapsed time' , toc - tic)\n",
        "\n",
        "# advantage--set are faster"
      ],
      "execution_count": 0,
      "outputs": []
    },
    {
      "metadata": {
        "id": "Yj2kebsbiQDb",
        "colab_type": "text"
      },
      "cell_type": "markdown",
      "source": [
        "**Python Dictionary**\n",
        "\n",
        "Dictionary in Python is an unordered collection of data values, used to store data values like a map, which unlike other Data Types that hold only single value as an element, Dictionary holds key:value pair. Key value is provided in the dictionary to make it more optimized. Each key-value pair in a Dictionary is separated by a colon : ,  whereas each key is separated by a ‘comma’.\n",
        "\n",
        "A Dictionary in Python works similar to the Dictionary in a real world. Keys of a Dictionary must be unique and of immutable data type such as Strings, Integers and tuples, but the key-values can be repeated and be of any type.\n",
        "\n",
        "**Note **– Keys in a dictionary doesn’t allows Polymorphism.\n",
        "\n",
        "**Creating a Dictionary**\n",
        "\n",
        "\n",
        "In Python, a Dictionary can be created by placing sequence of elements within curly {} braces, separated by ‘comma’. Dictionary holds a pair of values, one being the Key and the other corresponding pair element being its **Key:value**. Values in a dictionary can be of any datatype and can be duplicated, whereas keys can’t be repeated and must be immutable.\n",
        "\n",
        "Dictionary can also be created by the built-in function dict(). An empty dictionary can be created by just placing to curly braces{}.\n",
        "\n",
        "**Note –** Dictionary keys are case sensitive, same name but different cases of Key will be treated distinctly."
      ]
    },
    {
      "metadata": {
        "id": "BX_4b8Jmh7G1",
        "colab_type": "code",
        "colab": {}
      },
      "cell_type": "code",
      "source": [
        "my_phone_dict = {}\n",
        "type(my_phone_dict)"
      ],
      "execution_count": 0,
      "outputs": []
    },
    {
      "metadata": {
        "id": "haYxD3d1i4FN",
        "colab_type": "code",
        "colab": {}
      },
      "cell_type": "code",
      "source": [
        "my_phone_dict['name'] = 'iPhone 5s'\n",
        "my_phone_dict['isAndroid'] = False\n",
        "my_phone_dict['screensize'] = 4.3"
      ],
      "execution_count": 0,
      "outputs": []
    },
    {
      "metadata": {
        "id": "S9NjDth5mKm8",
        "colab_type": "code",
        "colab": {}
      },
      "cell_type": "code",
      "source": [
        "print(my_phone_dict)\n"
      ],
      "execution_count": 0,
      "outputs": []
    },
    {
      "metadata": {
        "id": "MJ-MAMq3mUt6",
        "colab_type": "code",
        "colab": {}
      },
      "cell_type": "code",
      "source": [
        "# With dictionary now has the three keys, & each of them has a an identify key...\n",
        "# and they can be acessed as follow\n",
        "\n",
        "my_phone_dict['name']"
      ],
      "execution_count": 0,
      "outputs": []
    },
    {
      "metadata": {
        "id": "Vy-PSX9VnWqc",
        "colab_type": "code",
        "colab": {}
      },
      "cell_type": "code",
      "source": [
        "# for values\n",
        "print(my_phone_dict.values())"
      ],
      "execution_count": 0,
      "outputs": []
    },
    {
      "metadata": {
        "id": "incQcblBnqP1",
        "colab_type": "code",
        "colab": {}
      },
      "cell_type": "code",
      "source": [
        "print(my_phone_dict.keys())"
      ],
      "execution_count": 0,
      "outputs": []
    },
    {
      "metadata": {
        "id": "wy4z4nHspfic",
        "colab_type": "code",
        "colab": {}
      },
      "cell_type": "code",
      "source": [
        "# all of these are accessible throw loop as well\n",
        "for key in my_phone_dict.keys():\n",
        "  print(key)"
      ],
      "execution_count": 0,
      "outputs": []
    },
    {
      "metadata": {
        "id": "MpbH0jtsp-X0",
        "colab_type": "code",
        "colab": {}
      },
      "cell_type": "code",
      "source": [
        "# Creating an empty Dictionary \n",
        "Dict = {} \n",
        "print(\"Empty Dictionary: \") \n",
        "print(Dict) \n",
        "\n",
        "# Creating a Dictionary \n",
        "# with Integer Keys \n",
        "Dict = {1: 'Geeks', 2: 'For', 3: 'Geeks'} \n",
        "print(\"\\nDictionary with the use of Integer Keys: \") \n",
        "print(Dict) \n",
        "\n",
        "# Creating a Dictionary \n",
        "# with Mixed keys \n",
        "Dict = {'Name': 'Geeks', 1: [1, 2, 3, 4]} \n",
        "print(\"\\nDictionary with the use of Mixed Keys: \") \n",
        "print(Dict) \n",
        "\n",
        "# Creating a Dictionary \n",
        "# with dict() method \n",
        "Dict = dict({1: 'Geeks', 2: 'For', 3:'Geeks'}) \n",
        "print(\"\\nDictionary with the use of dict(): \") \n",
        "print(Dict) \n",
        "\n",
        "# Creating a Dictionary \n",
        "# with each item as a Pair \n",
        "Dict = dict([(1, 'Geeks'), (2, 'For')]) \n",
        "print(\"\\nDictionary with each item as a pair: \") \n",
        "print(Dict) \n"
      ],
      "execution_count": 0,
      "outputs": []
    },
    {
      "metadata": {
        "id": "6Jp5BVCjqNhA",
        "colab_type": "code",
        "colab": {}
      },
      "cell_type": "code",
      "source": [
        "# Creating a Nested Dictionary \n",
        "# as shown in the below image \n",
        "Dict = {1: 'Geeks', 2: 'For', \n",
        "\t\t3:{'A' : 'Welcome', 'B' : 'To', 'C' : 'Geeks'}} \n",
        "\n",
        "print(Dict) \n"
      ],
      "execution_count": 0,
      "outputs": []
    },
    {
      "metadata": {
        "id": "eNiXojudqWIL",
        "colab_type": "text"
      },
      "cell_type": "markdown",
      "source": [
        "**In Python Dictionary,** \n",
        "Addition of elements can be done in multiple ways. One value at a time can be added to a Dictionary by defining value along with the key e.g. Dict[Key] = ‘Value’. Updating an existing value in a Dictionary can be done by using the built-in update() method. Nested key values can also be added to an existing Dictionary.\n",
        "Note- While adding a value, if the key value already exists, the value gets updated otherwise a new Key with the value is added to the Dictionary"
      ]
    },
    {
      "metadata": {
        "id": "Fi9MdGHeqkji",
        "colab_type": "code",
        "colab": {}
      },
      "cell_type": "code",
      "source": [
        "# Creating an empty Dictionary \n",
        "Dict = {} \n",
        "print(\"Empty Dictionary: \") \n",
        "print(Dict) \n",
        "\n",
        "# Adding elements one at a time \n",
        "Dict[0] = 'Geeks'\n",
        "Dict[2] = 'For'\n",
        "Dict[3] = 1\n",
        "print(\"\\nDictionary after adding 3 elements: \") \n",
        "print(Dict) \n",
        "\n",
        "# Adding set of values \n",
        "# to a single Key \n",
        "Dict['Value_set'] = 2, 3, 4\n",
        "print(\"\\nDictionary after adding 3 elements: \") \n",
        "print(Dict) \n",
        "\n",
        "# Updating existing Key's Value \n",
        "Dict[2] = 'Welcome'\n",
        "print(\"\\nUpdated key value: \") \n",
        "print(Dict) \n",
        "\n",
        "# Adding Nested Key value to Dictionary \n",
        "Dict[5] = {'Nested' :{'1' : 'Life', '2' : 'Geeks'}} \n",
        "print(\"\\nAdding a Nested Key: \") \n",
        "print(Dict) \n"
      ],
      "execution_count": 0,
      "outputs": []
    },
    {
      "metadata": {
        "id": "xJkcHUmcqtOb",
        "colab_type": "text"
      },
      "cell_type": "markdown",
      "source": [
        "In order to access the items of a dictionary refer to its key name.Key can be used inside square brackets.There is also a method called get() that will also help in acessing the element from a dictionary."
      ]
    },
    {
      "metadata": {
        "id": "L9qbvzkUquUe",
        "colab_type": "code",
        "colab": {}
      },
      "cell_type": "code",
      "source": [
        "# Python program to demonstrate \n",
        "# accesing a element from a Dictionary \n",
        "\n",
        "# Creating a Dictionary \n",
        "Dict = {1: 'Geeks', 'name': 'For', 3: 'Geeks'} \n",
        "\n",
        "# accessing a element using key \n",
        "print(\"Acessing a element using key:\") \n",
        "print(Dict['name']) \n",
        "\n",
        "# accessing a element using key \n",
        "print(\"Acessing a element using key:\") \n",
        "print(Dict[1]) \n",
        "\n",
        "# accessing a element using get() \n",
        "# method \n",
        "print(\"Acessing a element using get:\") \n",
        "print(Dict.get(3)) \n"
      ],
      "execution_count": 0,
      "outputs": []
    },
    {
      "metadata": {
        "id": "P3jCRoV6rBcR",
        "colab_type": "text"
      },
      "cell_type": "markdown",
      "source": [
        "# Python Packages"
      ]
    },
    {
      "metadata": {
        "id": "kCfb244Kztza",
        "colab_type": "code",
        "colab": {}
      },
      "cell_type": "code",
      "source": [
        "import math\n"
      ],
      "execution_count": 0,
      "outputs": []
    },
    {
      "metadata": {
        "id": "-mHE_mBF1Kc5",
        "colab_type": "code",
        "colab": {}
      },
      "cell_type": "code",
      "source": [
        "a = math.sqrt(100)\n",
        "print(a)"
      ],
      "execution_count": 0,
      "outputs": []
    },
    {
      "metadata": {
        "id": "SikyoboB1P3p",
        "colab_type": "code",
        "colab": {}
      },
      "cell_type": "code",
      "source": [
        "a = math.pow(100, 0.5)\n",
        "print(a)"
      ],
      "execution_count": 0,
      "outputs": []
    },
    {
      "metadata": {
        "id": "g1dhhZBC11kA",
        "colab_type": "text"
      },
      "cell_type": "markdown",
      "source": [
        "https://docs.python.org/3/library/math.html\n",
        "\n"
      ]
    },
    {
      "metadata": {
        "id": "M_M2RKQG18aD",
        "colab_type": "text"
      },
      "cell_type": "markdown",
      "source": [
        "why do we want library ... its because somebody has already implemeted the code we want... typically in the optimized way"
      ]
    },
    {
      "metadata": {
        "id": "MMgSIBzF6QQl",
        "colab_type": "code",
        "colab": {}
      },
      "cell_type": "code",
      "source": [
        "x = 100\n",
        "y = 1\n",
        "for i in range(1, x):\n",
        "  y *= i\n",
        "print('Factorial of', x, 'is', y)  "
      ],
      "execution_count": 0,
      "outputs": []
    },
    {
      "metadata": {
        "id": "I_9aJMNu6tZ1",
        "colab_type": "code",
        "colab": {}
      },
      "cell_type": "code",
      "source": [
        "y = math.factorial(x)\n",
        "print(y)"
      ],
      "execution_count": 0,
      "outputs": []
    },
    {
      "metadata": {
        "id": "eeq610_z6zzg",
        "colab_type": "code",
        "colab": {}
      },
      "cell_type": "code",
      "source": [
        "#maths lib can also be imported as \n",
        "#then insted of math we can use 'm'\n",
        "import math as m\n"
      ],
      "execution_count": 0,
      "outputs": []
    },
    {
      "metadata": {
        "id": "GKxW1F0x7H5V",
        "colab_type": "code",
        "colab": {}
      },
      "cell_type": "code",
      "source": [
        "y = m.factorial(x)\n",
        "print(y)"
      ],
      "execution_count": 0,
      "outputs": []
    },
    {
      "metadata": {
        "id": "No0dF81R7f8z",
        "colab_type": "code",
        "colab": {}
      },
      "cell_type": "code",
      "source": [
        "from math import factorial"
      ],
      "execution_count": 0,
      "outputs": []
    },
    {
      "metadata": {
        "id": "uhEEs0jQ7mWH",
        "colab_type": "code",
        "colab": {}
      },
      "cell_type": "code",
      "source": [
        "y = factorial(x)\n",
        "print(y)"
      ],
      "execution_count": 0,
      "outputs": []
    },
    {
      "metadata": {
        "id": "3mbYW7yF7sUh",
        "colab_type": "code",
        "colab": {}
      },
      "cell_type": "code",
      "source": [
        "# note:-->import time from above to avoide the error\n",
        "\n",
        "# witout libraries \n",
        "vals = list(range(1, 100))\n",
        "tic = time.time()\n",
        "for x in vals:\n",
        "  y = 1\n",
        "  for i in range(1, x):\n",
        "    y *= i\n",
        "toc = time.time()\n",
        "print('Elapsed time in sec with own function', toc - tic)\n",
        "\n",
        "# with libraries\n",
        "\n",
        "tic = time.time()\n",
        "for x in vals:\n",
        "   y = math.factorial(x)\n",
        "  \n",
        "toc = time.time()\n",
        "print('Elapsed time in sec with own function', toc - tic)\n",
        "\n",
        "#why do we want library ... its because somebody has already implemeted the code we want... typically in the optimized way\n",
        "#hence with library the code runs faster\n",
        "\n",
        "\n"
      ],
      "execution_count": 0,
      "outputs": []
    },
    {
      "metadata": {
        "id": "33YT6l6m86HG",
        "colab_type": "code",
        "colab": {}
      },
      "cell_type": "code",
      "source": [
        "#creating our won module\n",
        "#the packages we want to import should be in the standard .py formate\n",
        "#creating a small file that has two line of code \n",
        "\n",
        "\n",
        "!echo 'def hello():' > my_first_module.py\n",
        "!echo '    print(\"hello, i am living in a different file!!!\")' >> my_first_module.py\n",
        "\n",
        "\n",
        "# double arrow are used >> to append it to that file"
      ],
      "execution_count": 0,
      "outputs": []
    },
    {
      "metadata": {
        "id": "Dm8Wh8EEAXgE",
        "colab_type": "code",
        "colab": {}
      },
      "cell_type": "code",
      "source": [
        "# to check\n",
        "!cat my_first_module.py"
      ],
      "execution_count": 0,
      "outputs": []
    },
    {
      "metadata": {
        "id": "cfnRttp7AkQo",
        "colab_type": "code",
        "colab": {}
      },
      "cell_type": "code",
      "source": [
        "import my_first_module"
      ],
      "execution_count": 0,
      "outputs": []
    },
    {
      "metadata": {
        "id": "rKaafalaBwZH",
        "colab_type": "code",
        "colab": {}
      },
      "cell_type": "code",
      "source": [
        "my_first_module.hello()\n",
        "#Note:- here 'def' and 'print' are the keywords"
      ],
      "execution_count": 0,
      "outputs": []
    },
    {
      "metadata": {
        "id": "TCo0dBiqB-i9",
        "colab_type": "code",
        "colab": {}
      },
      "cell_type": "code",
      "source": [
        "#or in we can also do this in anothor way\n",
        "#NOTE:-- Parentheses are not used after hello duting import\n",
        "\n",
        "from my_first_module import hello"
      ],
      "execution_count": 0,
      "outputs": []
    },
    {
      "metadata": {
        "id": "Ac0mq4MQDGMN",
        "colab_type": "code",
        "colab": {}
      },
      "cell_type": "code",
      "source": [
        "hello()"
      ],
      "execution_count": 0,
      "outputs": []
    },
    {
      "metadata": {
        "id": "OuDHv5zqFYPU",
        "colab_type": "text"
      },
      "cell_type": "markdown",
      "source": [
        "**Create and Access a Python Package**\n",
        "\n",
        "Packages are a way of structuring many packages and modules which helps in a well-organized hierarchy of data set, making the directories and modules easy to access. Just like there are different drives and folders in an OS to help us store files, similarly packages help us in storing other sub-packages and modules, so that it can be used by the user when necessary.\n",
        "\n",
        "**Creating and Exploring Packages**\n",
        "\n",
        "To tell Python that a particular directory is a package, we create a file named __init__.py inside it and then it is considered as a package and we may create other modules and sub-packages within it. This __init__.py file can be left blank or can be coded with the initialization code for the package.\n",
        "\n",
        "\n",
        "\n",
        "\n",
        " **To create a package in Python, we need to follow these three simple steps: **\n",
        "\n",
        "**1.First, we create a directory and give it a package name, preferably related to its operation.**\n",
        "\n",
        "**2.Then we put the classes and the required functions in it.**\n",
        "\n",
        "**3.Finally we create an __init__.py file inside the directory, to let Python know that the directory is a package.\n",
        "Example of Creating Package**\n",
        "\n",
        "\n",
        "\n",
        "Let’s look at this example and see how a package is created. Let’s create a package named Cars and build three modules in it namely, Bmw, Audi and Nissan.\n",
        "\n",
        "\n",
        "\n",
        "1.**First we create a directory and name it Cars.**\n",
        "\n",
        "2.**Then we need to create modules.**\n",
        "\n",
        "3.**To do this we need to create a file with the name Bmw.py and create its content by putting this code into it.**"
      ]
    },
    {
      "metadata": {
        "id": "k7yCAjfPLepR",
        "colab_type": "code",
        "colab": {}
      },
      "cell_type": "code",
      "source": [
        "# Python code to illustrate the Modules \n",
        "class Bmw: \n",
        "\t# First we create a constructor for this class \n",
        "\t# and add members to it, here models \n",
        "\tdef __init__(self): \n",
        "\t\tself.models = ['i8', 'x1', 'x5', 'x6'] \n",
        "\n",
        "\t# A normal print function \n",
        "\tdef outModels(self): \n",
        "\t\tprint('These are the available models for BMW') \n",
        "\t\tfor model in self.models: \n",
        "\t\t\tprint('\\t%s ' % model) \n"
      ],
      "execution_count": 0,
      "outputs": []
    },
    {
      "metadata": {
        "id": "J_-6XFJ3Lji-",
        "colab_type": "code",
        "colab": {}
      },
      "cell_type": "code",
      "source": [
        "# Python code to illustrate the Module \n",
        "class Audi: \n",
        "\t# First we create a constructor for this class \n",
        "\t# and add members to it, here models \n",
        "\tdef __init__(self): \n",
        "\t\tself.models = ['q7', 'a6', 'a8', 'a3'] \n",
        "\n",
        "\t# A normal print function \n",
        "\tdef outModels(self): \n",
        "\t\tprint('These are the available models for Audi') \n",
        "\t\tfor model in self.models: \n",
        "\t\t\tprint('\\t%s ' % model) \n"
      ],
      "execution_count": 0,
      "outputs": []
    },
    {
      "metadata": {
        "id": "rN81tmfMLlnk",
        "colab_type": "code",
        "colab": {}
      },
      "cell_type": "code",
      "source": [
        "# Python code to illustrate the Module \n",
        "class Nissan: \n",
        "\t# First we create a constructor for this class \n",
        "\t# and add members to it, here models \n",
        "\tdef __init__(self): \n",
        "\t\tself.models = ['altima', '370z', 'cube', 'rogue'] \n",
        "\n",
        "\t# A normal print function \n",
        "\tdef outModels(self): \n",
        "\t\tprint('These are the available models for Nissan') \n",
        "\t\tfor model in self.models: \n",
        "\t\t\tprint('\\t%s ' % model) \n"
      ],
      "execution_count": 0,
      "outputs": []
    },
    {
      "metadata": {
        "id": "1ERNigELLw2u",
        "colab_type": "text"
      },
      "cell_type": "markdown",
      "source": [
        "Now, let’s use the package that we created. To do this make a sample.py file in the same directory where Cars package is located and add the following code to it:"
      ]
    },
    {
      "metadata": {
        "id": "QmxXn20jLzXY",
        "colab_type": "code",
        "colab": {}
      },
      "cell_type": "code",
      "source": [
        "# Import classes from your brand new package \n",
        "from Cars import Bmw \n",
        "from Cars import Audi \n",
        "from Cars import Nissan \n",
        "\n",
        "# Create an object of Bmw class & call its method \n",
        "ModBMW = Bmw() \n",
        "ModBMW.outModels() \n",
        "\n",
        "# Create an object of Audi class & call its method \n",
        "ModAudi = Audi() \n",
        "ModAudi.outModels() \n",
        "\n",
        "# Create an object of Nissan class & call its method \n",
        "ModNissan = Nissan() \n",
        "ModNissan.outModels() \n"
      ],
      "execution_count": 0,
      "outputs": []
    },
    {
      "metadata": {
        "id": "OgItsWX1L4Ao",
        "colab_type": "text"
      },
      "cell_type": "markdown",
      "source": [
        "***To Run the above code directory is needed to created.***\n",
        "\n",
        "[Various ways of Accessing the Packages](https://cdncontribute.geeksforgeeks.org/wp-content/uploads/Python-Packages.jpg)\n"
      ]
    },
    {
      "metadata": {
        "id": "qM2p9TypDuF6",
        "colab_type": "text"
      },
      "cell_type": "markdown",
      "source": [
        "# File handling \n",
        "how to read & write a file\n"
      ]
    },
    {
      "metadata": {
        "id": "9U74tgjvDqu3",
        "colab_type": "code",
        "colab": {}
      },
      "cell_type": "code",
      "source": [
        "!wget https://www.dropbox.com/s/w94odi4aq1k44lf/mobile_cleaned.csv"
      ],
      "execution_count": 0,
      "outputs": []
    },
    {
      "metadata": {
        "id": "28woqYx80ija",
        "colab_type": "code",
        "colab": {}
      },
      "cell_type": "code",
      "source": [
        "#locate the file the directory\n",
        "!ls"
      ],
      "execution_count": 0,
      "outputs": []
    },
    {
      "metadata": {
        "id": "_WORVfxk0oVf",
        "colab_type": "code",
        "colab": {}
      },
      "cell_type": "code",
      "source": [
        "#how to open the file \n",
        "file =open('mobile_cleaned.csv', 'r') \n",
        "\n",
        "# 'r' here open the file in read mode"
      ],
      "execution_count": 0,
      "outputs": []
    },
    {
      "metadata": {
        "id": "6JNFtfUo1N5D",
        "colab_type": "code",
        "colab": {}
      },
      "cell_type": "code",
      "source": [
        "# to read the line from the file \n",
        "s = file.readline()"
      ],
      "execution_count": 0,
      "outputs": []
    },
    {
      "metadata": {
        "id": "p9fRbzNx19uu",
        "colab_type": "code",
        "colab": {}
      },
      "cell_type": "code",
      "source": [
        "print(s)"
      ],
      "execution_count": 0,
      "outputs": []
    },
    {
      "metadata": {
        "id": "e1RW8w8-2BwT",
        "colab_type": "code",
        "colab": {}
      },
      "cell_type": "code",
      "source": [
        "print(s.split(','))\n",
        "\n",
        "# here we use this command for string processing.\n",
        "# it take the particular string and seprate by a comma and returne the resukt in list in Sq braces"
      ],
      "execution_count": 0,
      "outputs": []
    },
    {
      "metadata": {
        "id": "7mnCIPY_2_fC",
        "colab_type": "code",
        "colab": {}
      },
      "cell_type": "code",
      "source": [
        "file.close()"
      ],
      "execution_count": 0,
      "outputs": []
    },
    {
      "metadata": {
        "id": "y0Fw3Yeq3HxZ",
        "colab_type": "code",
        "colab": {}
      },
      "cell_type": "code",
      "source": [
        "with open ('mobile_cleaned.csv', 'r') as file:\n",
        "  print(file.readline())"
      ],
      "execution_count": 0,
      "outputs": []
    },
    {
      "metadata": {
        "id": "SbfmfKgo35gw",
        "colab_type": "code",
        "colab": {}
      },
      "cell_type": "code",
      "source": [
        "with open ('mobile_cleaned.csv', 'r') as file:\n",
        "  print(file.read())\n",
        "  \n",
        "# insted of reading single line it read the entire line and  print it"
      ],
      "execution_count": 0,
      "outputs": []
    },
    {
      "metadata": {
        "id": "Ka8dMKyr4MdI",
        "colab_type": "code",
        "colab": {}
      },
      "cell_type": "code",
      "source": [
        "with open ('mobile_cleaned.csv', 'r') as file:\n",
        "  for line in file:   # it will return the differnt line one by one \n",
        "    print(line)       # it will print each line seprately\n",
        "  \n",
        "  "
      ],
      "execution_count": 0,
      "outputs": []
    },
    {
      "metadata": {
        "id": "bUmJ0ZEC5I91",
        "colab_type": "code",
        "colab": {}
      },
      "cell_type": "code",
      "source": [
        "with open ('mobile_cleaned.csv', 'r') as file:\n",
        "  for line in file:   \n",
        "    for word in line.split(','):\n",
        "      print(word)\n",
        "    print('__________________________________________') # this is used for the sepration "
      ],
      "execution_count": 0,
      "outputs": []
    },
    {
      "metadata": {
        "id": "gKGSVTpD6vzC",
        "colab_type": "code",
        "colab": {}
      },
      "cell_type": "code",
      "source": [
        "with open('my_first_file_output.txt', 'w') as file:\n",
        "  file.write('hello world from python code')\n",
        "  \n",
        "  \n",
        "#hence we already know how to read a file.   \n",
        "#how to write a file?\n",
        "#here 'W' means that we are opening the file with write permission"
      ],
      "execution_count": 0,
      "outputs": []
    },
    {
      "metadata": {
        "id": "39CUnO6y8RdJ",
        "colab_type": "code",
        "colab": {}
      },
      "cell_type": "code",
      "source": [
        "# the way to test that\n",
        "!cat my_first_file_output.txt"
      ],
      "execution_count": 0,
      "outputs": []
    },
    {
      "metadata": {
        "id": "G2KusdOj8imd",
        "colab_type": "code",
        "colab": {}
      },
      "cell_type": "code",
      "source": [
        ""
      ],
      "execution_count": 0,
      "outputs": []
    },
    {
      "metadata": {
        "id": "CdJ2Z-ff9e2f",
        "colab_type": "text"
      },
      "cell_type": "markdown",
      "source": [
        "# Python Classes"
      ]
    },
    {
      "metadata": {
        "id": "9-pNQaJa9vC5",
        "colab_type": "code",
        "colab": {}
      },
      "cell_type": "code",
      "source": [
        "class MobilePhone:\n",
        "  pass"
      ],
      "execution_count": 0,
      "outputs": []
    },
    {
      "metadata": {
        "id": "32SojeR3m0kG",
        "colab_type": "code",
        "colab": {}
      },
      "cell_type": "code",
      "source": [
        "new_phone = MobilePhone()\n"
      ],
      "execution_count": 0,
      "outputs": []
    },
    {
      "metadata": {
        "id": "opHpdmX4m9HY",
        "colab_type": "code",
        "colab": {}
      },
      "cell_type": "code",
      "source": [
        "type(new_phone)"
      ],
      "execution_count": 0,
      "outputs": []
    },
    {
      "metadata": {
        "id": "LJY36reInB0P",
        "colab_type": "code",
        "colab": {}
      },
      "cell_type": "code",
      "source": [
        "class MobilePhone:\n",
        "  \"\"\"This is a sample class to illustrate how Python classes work\"\"\"\n",
        "  def __init__(self, name, is_android = False, screen_size = 4.3):\n",
        "    self.name = name\n",
        "    self.is_android = is_android\n",
        "    self.screen_size = screen_size\n",
        "    self.rating = -1\n",
        "    \n",
        "# suppose if we want to add one more function to it \n",
        "\n",
        "  def has_rating(self):\n",
        "    return self.rating > -1"
      ],
      "execution_count": 0,
      "outputs": []
    },
    {
      "metadata": {
        "id": "Zy28-orsndu8",
        "colab_type": "code",
        "colab": {}
      },
      "cell_type": "code",
      "source": [
        "new_phone = MobilePhone('iPhone 5s')\n"
      ],
      "execution_count": 0,
      "outputs": []
    },
    {
      "metadata": {
        "id": "3ZJTRBtKntkC",
        "colab_type": "code",
        "colab": {}
      },
      "cell_type": "code",
      "source": [
        "type(new_phone)"
      ],
      "execution_count": 0,
      "outputs": []
    },
    {
      "metadata": {
        "id": "hw6n1KuYn1MX",
        "colab_type": "code",
        "colab": {}
      },
      "cell_type": "code",
      "source": [
        "print(new_phone.name, new_phone.is_android, new_phone.screen_size)"
      ],
      "execution_count": 0,
      "outputs": []
    },
    {
      "metadata": {
        "id": "sM9GHa3ZpIqS",
        "colab_type": "code",
        "colab": {}
      },
      "cell_type": "code",
      "source": [
        "#we can access them and change them like any other varible\n",
        "\n",
        "new_phone.screen_size = 4\n",
        "\n",
        "# now executing the above statment the things have now changed\n",
        "# we now **ENCAPSULATED** them into the class"
      ],
      "execution_count": 0,
      "outputs": []
    },
    {
      "metadata": {
        "id": "WnDKl4wrp8JP",
        "colab_type": "code",
        "colab": {}
      },
      "cell_type": "code",
      "source": [
        "# now if we call \n",
        "new_phone.has_rating()\n",
        "\n",
        "# i.e has_rating dose not exist i.e rating = False"
      ],
      "execution_count": 0,
      "outputs": []
    },
    {
      "metadata": {
        "id": "tXZFWpsjvWFb",
        "colab_type": "code",
        "colab": {}
      },
      "cell_type": "code",
      "source": [
        "new_phone.rating = 3.9\n",
        "\n",
        "# now if we executes this now the above cell shows the rating =true"
      ],
      "execution_count": 0,
      "outputs": []
    },
    {
      "metadata": {
        "id": "FmbnAjFyv2SI",
        "colab_type": "code",
        "colab": {}
      },
      "cell_type": "code",
      "source": [
        "# we can use soc strings if the classes become big\n",
        "#\"\"\"This is a sample class to illustrate how python classes works \"\"\"\n",
        "# and the way to access this doc string is \n",
        "\n",
        "MobilePhone.__doc__"
      ],
      "execution_count": 0,
      "outputs": []
    },
    {
      "metadata": {
        "id": "Y3cAbKAg77EI",
        "colab_type": "text"
      },
      "cell_type": "markdown",
      "source": [
        "**Inheritance** is the process of creating new classes, called derived classes, from existing classes or base classes. The derived class inherits all the capabilities of the base class, but can add embellishments and refinements of its own"
      ]
    },
    {
      "metadata": {
        "id": "ZBOSZiwYxguZ",
        "colab_type": "code",
        "colab": {}
      },
      "cell_type": "code",
      "source": [
        "#Inheritance#\n",
        "\n",
        "class iPhone(MobilePhone):\n",
        "  def __init__(self, name):\n",
        "    MobilePhone.__init__(self, name, False, 4)\n",
        "\n",
        "#invoking the __init__ function, already define under MobilePhone\n",
        "  def __str__(self):\n",
        "    return self.name + \" \" + str(self.is_android) + \" \" + str(self.screen_size)\n",
        "  \n",
        "#here we are returning a string and the wat to acess that is print(new_iphone)"
      ],
      "execution_count": 0,
      "outputs": []
    },
    {
      "metadata": {
        "id": "HRQj8LuIzyEz",
        "colab_type": "code",
        "colab": {}
      },
      "cell_type": "code",
      "source": [
        "new_iphone = iPhone('iPhone 5s')\n",
        "\n",
        "#new_iPhone = iPhone('iPhone 5s') will show the error"
      ],
      "execution_count": 0,
      "outputs": []
    },
    {
      "metadata": {
        "id": "V09zMEFPzQpq",
        "colab_type": "code",
        "colab": {}
      },
      "cell_type": "code",
      "source": [
        "new_iphone.is_android\n",
        "\n",
        "# now we have the new class\n",
        "#new_iPhone.is_android"
      ],
      "execution_count": 0,
      "outputs": []
    },
    {
      "metadata": {
        "id": "c0UmBck4zqlY",
        "colab_type": "code",
        "colab": {}
      },
      "cell_type": "code",
      "source": [
        "print(new_iphone)"
      ],
      "execution_count": 0,
      "outputs": []
    },
    {
      "metadata": {
        "id": "H-UtBYnxXcf6",
        "colab_type": "text"
      },
      "cell_type": "markdown",
      "source": [
        "**Object Oriented Programming in Python | Set 1 (Class, Object and Members)**\n",
        "\n"
      ]
    },
    {
      "metadata": {
        "id": "Pvw-w-kDXbrU",
        "colab_type": "code",
        "colab": {}
      },
      "cell_type": "code",
      "source": [
        "# A simple example class \n",
        "class Test: \n",
        "\t\n",
        "\t# A sample method \n",
        "\tdef fun(self): \n",
        "\t\tprint(\"Hello\") \n",
        "\n",
        "# Driver code \n",
        "obj = Test() \n",
        "obj.fun() \n"
      ],
      "execution_count": 0,
      "outputs": []
    },
    {
      "metadata": {
        "id": "T230fRtRXu2i",
        "colab_type": "text"
      },
      "cell_type": "markdown",
      "source": [
        "As we can see above, we create a new class using the **class statement ** and the name of the class. \n",
        "This is followed by an indented block of statements which form the body of the class. \n",
        "In this case, we have defined a single method in the class.\n",
        "\n",
        "Next, we create an object/instance of this class using the name of the class followed by a pair of parentheses"
      ]
    },
    {
      "metadata": {
        "id": "xzDvAXrCYNGy",
        "colab_type": "text"
      },
      "cell_type": "markdown",
      "source": [
        "**The self**\n",
        "\n",
        "\n",
        "1.   Class methods must have an extra first parameter in method definition. We do not give a value for this parameter when we call the method, Python provides it\n",
        "2.   If we have a method which takes no arguments, then we still have to have one argument – the self. See fun() in above simple example.\n",
        "3. This is similar to this pointer in C++ and this reference in Java.\n",
        "\n",
        "When we call a method of this object as myobject.method(arg1, arg2), this is automatically converted by Python into MyClass.method(myobject, arg1, arg2) – this is all the special self is about.\n",
        "\n"
      ]
    },
    {
      "metadata": {
        "id": "V19x36R-YrF3",
        "colab_type": "text"
      },
      "cell_type": "markdown",
      "source": [
        "**The __init__ method**\n",
        "\n",
        "The __init__ method is similar to constructors in C++ and Java. It is run as soon as an object of a class is instantiated. \n",
        "The method is useful to do any initialization you want to do with your objects."
      ]
    },
    {
      "metadata": {
        "id": "nRZS_wSYYJn8",
        "colab_type": "code",
        "colab": {}
      },
      "cell_type": "code",
      "source": [
        "# A Sample class with init method \n",
        "class Person: \n",
        "\n",
        "\t# init method or constructor \n",
        "\tdef __init__(self, name): \n",
        "\t\tself.name = name \n",
        "\n",
        "\t# Sample Method \n",
        "\tdef say_hi(self): \n",
        "\t\tprint('Hello, my name is', self.name) \n",
        "\n",
        "p = Person('faizy') \n",
        "p.say_hi() \n",
        "\n",
        "#Here, we define the __init__ method as taking a parameter name (along with the usual self). \n"
      ],
      "execution_count": 0,
      "outputs": []
    },
    {
      "metadata": {
        "id": "v0iaz7meZO02",
        "colab_type": "text"
      },
      "cell_type": "markdown",
      "source": [
        "**Class and Instance Variables (Or attributes)**\n",
        "\n",
        "In Python, instance variables are variables whose value is assigned inside a constructor or method with self.\n",
        "\n",
        "Class variables are variables whose value is assigned in class"
      ]
    },
    {
      "metadata": {
        "id": "WCdd5yQeZVtA",
        "colab_type": "code",
        "colab": {}
      },
      "cell_type": "code",
      "source": [
        "# Python program to show that the variables with a value \n",
        "# assigned in class declaration, are class variables and \n",
        "# variables inside methods and constructors are instance \n",
        "# variables. \n",
        "\n",
        "# Class for Computer Science Student \n",
        "class ECStudent: \n",
        "\n",
        "\t# Class Variable \n",
        "\tstream = 'ece'\t\t\t\n",
        "\n",
        "\t# The init method or constructor \n",
        "\tdef __init__(self, roll): \n",
        "\t\n",
        "\t\t# Instance Variable\t \n",
        "\t\tself.roll = roll\t \n",
        "\n",
        "# Objects of CSStudent class \n",
        "a = ECStudent(101) \n",
        "b = ECStudent(102) \n",
        "\n",
        "print(a.stream) # prints \"ece\" \n",
        "print(b.stream) # prints \"ece\" \n",
        "print(a.roll) # prints 101 \n",
        "\n",
        "# Class variables can be accessed using class \n",
        "# name also \n",
        "print(ECStudent.stream) # prints \"ece\"\t \n"
      ],
      "execution_count": 0,
      "outputs": []
    },
    {
      "metadata": {
        "id": "BiNMyy4wZxSp",
        "colab_type": "code",
        "colab": {}
      },
      "cell_type": "code",
      "source": [
        "#We can define instance variables inside normal methods also.\n",
        "\n",
        "# Python program to show that we can create \n",
        "# instance variables inside methods \n",
        "\n",
        "# Class for Computer Science Student \n",
        "class ECStudent: \n",
        "\t\n",
        "\t# Class Variable \n",
        "\tstream = 'ece'\t\n",
        "\t\n",
        "\t# The init method or constructor \n",
        "\tdef __init__(self, roll): \n",
        "\t\t\n",
        "\t\t# Instance Variable \n",
        "\t\tself.roll = roll\t\t\t \n",
        "\n",
        "\t# Adds an instance variable \n",
        "\tdef setAddress(self, address): \n",
        "\t\tself.address = address \n",
        "\t\n",
        "\t# Retrieves instance variable\t \n",
        "\tdef getAddress(self):\t \n",
        "\t\treturn self.address \n",
        "\n",
        "# Driver Code \n",
        "a = ECStudent(101) \n",
        "a.setAddress(\"Jamia Millia Islamia, Okhla New Delhi\") \n",
        "print(a.getAddress()) \n"
      ],
      "execution_count": 0,
      "outputs": []
    },
    {
      "metadata": {
        "id": "jRtp130yaMN5",
        "colab_type": "code",
        "colab": {}
      },
      "cell_type": "code",
      "source": [
        "#How to create an empty class?\n",
        "#We can create an empty class using pass statement in Python.\n",
        "\n",
        "# An empty class \n",
        "class Test: \n",
        "\tpass\n"
      ],
      "execution_count": 0,
      "outputs": []
    },
    {
      "metadata": {
        "id": "n5-SLjh-3NIG",
        "colab_type": "text"
      },
      "cell_type": "markdown",
      "source": [
        "**DeepLearning and Machine Learning  libraries**\n",
        "\n",
        "#NumPy"
      ]
    },
    {
      "metadata": {
        "id": "BPSOuU08a5mP",
        "colab_type": "text"
      },
      "cell_type": "markdown",
      "source": [
        "**Numpy**\n",
        "1. it is a general-purpose array-processing package.\n",
        "2. it provides a high-performance multidimensional array object, and tools for working with these arrays. \n",
        "3. It is the fundamental package for scientific computing with Python.\n",
        "Besides its obvious scientific uses, Numpy can also be used as an efficient multi-dimensional container of generic data.\n",
        "\n",
        "Arrays in Numpy\n",
        "Array in Numpy is a table of elements (usually numbers), all of the same type, indexed by a tuple of positive integers. In Numpy, number of dimensions of the array is called rank of the array.A tuple of integers giving the size of the array along each dimension is known as shape of the array. An array class in Numpy is called as ndarray. \n",
        "**Elements in Numpy arrays are accessed by using square brackets and can be initialized by using nested Python Lists.**"
      ]
    },
    {
      "metadata": {
        "id": "EnhsTifz3rg7",
        "colab_type": "code",
        "colab": {}
      },
      "cell_type": "code",
      "source": [
        "import numpy as np"
      ],
      "execution_count": 0,
      "outputs": []
    },
    {
      "metadata": {
        "id": "EBqELsoC30Y6",
        "colab_type": "code",
        "colab": {}
      },
      "cell_type": "code",
      "source": [
        "x = np.array([1, 2, 3])"
      ],
      "execution_count": 0,
      "outputs": []
    },
    {
      "metadata": {
        "id": "Cl4m-BI14F3K",
        "colab_type": "code",
        "colab": {}
      },
      "cell_type": "code",
      "source": [
        "type(x)\n",
        "\n",
        "#ndarray means n- diminsional array"
      ],
      "execution_count": 0,
      "outputs": []
    },
    {
      "metadata": {
        "id": "TJniCQub4IIE",
        "colab_type": "code",
        "colab": {}
      },
      "cell_type": "code",
      "source": [
        "l = [4, 5, 10]\n",
        "x = np.asarray(l)\n",
        "type(x)"
      ],
      "execution_count": 0,
      "outputs": []
    },
    {
      "metadata": {
        "id": "7pYrcbaa5ZuW",
        "colab_type": "code",
        "colab": {}
      },
      "cell_type": "code",
      "source": [
        "print(x)"
      ],
      "execution_count": 0,
      "outputs": []
    },
    {
      "metadata": {
        "id": "ccrLJrv54ZVy",
        "colab_type": "code",
        "colab": {}
      },
      "cell_type": "code",
      "source": [
        "x = np.asarray(l, float)\n",
        "print(x)"
      ],
      "execution_count": 0,
      "outputs": []
    },
    {
      "metadata": {
        "id": "uLY7djR85UNI",
        "colab_type": "code",
        "colab": {}
      },
      "cell_type": "code",
      "source": [
        "x.shape\n",
        "#output (3,) means this means this is a one dimensional array so the varible are only along one axis\n",
        "#i.e along the first dimension there is 3 elements"
      ],
      "execution_count": 0,
      "outputs": []
    },
    {
      "metadata": {
        "id": "RHeAKd7T8GE3",
        "colab_type": "code",
        "colab": {}
      },
      "cell_type": "code",
      "source": [
        "np.array?"
      ],
      "execution_count": 0,
      "outputs": []
    },
    {
      "metadata": {
        "id": "pKe_G8tR9BkL",
        "colab_type": "code",
        "colab": {}
      },
      "cell_type": "code",
      "source": [
        "y = np.array([1, 2, 3], dtype=complex)\n",
        "print(y)"
      ],
      "execution_count": 0,
      "outputs": []
    },
    {
      "metadata": {
        "id": "LWS1RrSB91EP",
        "colab_type": "code",
        "colab": {}
      },
      "cell_type": "code",
      "source": [
        "z = np.array(np.mat('1 2; 3 4'))\n",
        "print(z)"
      ],
      "execution_count": 0,
      "outputs": []
    },
    {
      "metadata": {
        "id": "wcjQIxMn-YYs",
        "colab_type": "code",
        "colab": {}
      },
      "cell_type": "code",
      "source": [
        "#2D x-array\n",
        "x = np.array([[1, 2, 3], [4, 5, 6]])\n",
        "print(x)"
      ],
      "execution_count": 0,
      "outputs": []
    },
    {
      "metadata": {
        "id": "mL6L-2yy-uPc",
        "colab_type": "code",
        "colab": {}
      },
      "cell_type": "code",
      "source": [
        "x.shape\n",
        "\n",
        "# (2,3) means we two rows and three column"
      ],
      "execution_count": 0,
      "outputs": []
    },
    {
      "metadata": {
        "id": "1YJIhVTw_L5X",
        "colab_type": "code",
        "colab": {}
      },
      "cell_type": "code",
      "source": [
        "# In order to access the individual element of it\n",
        "x[0, 2]"
      ],
      "execution_count": 0,
      "outputs": []
    },
    {
      "metadata": {
        "id": "QSxOKXOr_5NX",
        "colab_type": "code",
        "colab": {}
      },
      "cell_type": "code",
      "source": [
        "# to access the range of it\n",
        "x[0, 0:2]\n",
        "#0:2 zero is inclusive and two is exclusive"
      ],
      "execution_count": 0,
      "outputs": []
    },
    {
      "metadata": {
        "id": "oZfwZRZ9_9KZ",
        "colab_type": "code",
        "colab": {}
      },
      "cell_type": "code",
      "source": [
        "x[0, :]"
      ],
      "execution_count": 0,
      "outputs": []
    },
    {
      "metadata": {
        "id": "QkkcsLExAujd",
        "colab_type": "code",
        "colab": {}
      },
      "cell_type": "code",
      "source": [
        "# some inbuilt arrays...for np.zero two braces are used \n",
        "# for Eye only one Paranthesis\n",
        "x = np.zeros((4, 5))\n",
        "print(x)"
      ],
      "execution_count": 0,
      "outputs": []
    },
    {
      "metadata": {
        "id": "aOdwi_WZA9oK",
        "colab_type": "code",
        "colab": {}
      },
      "cell_type": "code",
      "source": [
        "#  here we use sq matrices\n",
        "x = np.eye(5, 5)\n",
        "print(x)"
      ],
      "execution_count": 0,
      "outputs": []
    },
    {
      "metadata": {
        "id": "_-2m8JGMBQn4",
        "colab_type": "code",
        "colab": {}
      },
      "cell_type": "code",
      "source": [
        "x = np.random.random((4, 5))\n",
        "print(x)"
      ],
      "execution_count": 0,
      "outputs": []
    },
    {
      "metadata": {
        "id": "VkWlXHtVB93g",
        "colab_type": "code",
        "colab": {}
      },
      "cell_type": "code",
      "source": [
        "z = x.T\n",
        "print(z)"
      ],
      "execution_count": 0,
      "outputs": []
    },
    {
      "metadata": {
        "id": "qwSJ3nTmCzgf",
        "colab_type": "code",
        "colab": {}
      },
      "cell_type": "code",
      "source": [
        "y = x.reshape(20, 1)\n",
        "print(y)"
      ],
      "execution_count": 0,
      "outputs": []
    },
    {
      "metadata": {
        "id": "ioehb4WGDLjG",
        "colab_type": "code",
        "colab": {}
      },
      "cell_type": "code",
      "source": [
        "A = np.arange(5)\n",
        "print(a)"
      ],
      "execution_count": 0,
      "outputs": []
    },
    {
      "metadata": {
        "id": "nahU4forDiv0",
        "colab_type": "code",
        "colab": {}
      },
      "cell_type": "code",
      "source": [
        "B = np.arange(5)\n",
        "C = A + B \n",
        "D = A - B\n",
        "E = A * B\n",
        "print(C, D, E)"
      ],
      "execution_count": 0,
      "outputs": []
    },
    {
      "metadata": {
        "id": "NkxG2YZ_EEVm",
        "colab_type": "code",
        "colab": {}
      },
      "cell_type": "code",
      "source": [
        "print(A, A+1)\n",
        "# we have added a scaler one to the vector A,here there is a concept of broad casting...\n",
        "# where this scaler value is BroadCasted in each element of A"
      ],
      "execution_count": 0,
      "outputs": []
    },
    {
      "metadata": {
        "id": "NgKh524PEzU_",
        "colab_type": "code",
        "colab": {}
      },
      "cell_type": "code",
      "source": [
        "A = np.random.random((2, 3))\n",
        "print(A)\n",
        "print(A+1)"
      ],
      "execution_count": 0,
      "outputs": []
    },
    {
      "metadata": {
        "id": "20xj8zGQGBEp",
        "colab_type": "code",
        "colab": {}
      },
      "cell_type": "code",
      "source": [
        "A = np.floor(np.random.random((2, 3))*10)\n",
        "print(A)\n",
        "\n",
        "# we are taking the random values and multipling it by 10\n",
        "# o/p conation the matrix that contain only the integer b/w 0~9"
      ],
      "execution_count": 0,
      "outputs": []
    },
    {
      "metadata": {
        "id": "RAfwEeDEGbj7",
        "colab_type": "code",
        "colab": {}
      },
      "cell_type": "code",
      "source": [
        "#liner Algebra\n",
        "\n",
        "u = [1, 2, 3]         # this could the data vector\n",
        "v = [-1, 0, 1]        #this kind of vector are very common in filters \n",
        "\n",
        "p1 = np.inner(u, v)   #product one can be the inner product\n",
        "print(p1)             # inner product is similar to multiplying to each point & then adding up (-1+0+3)=2"
      ],
      "execution_count": 0,
      "outputs": []
    },
    {
      "metadata": {
        "id": "b_dZKS1PNP-l",
        "colab_type": "code",
        "colab": {}
      },
      "cell_type": "code",
      "source": [
        "p2 = np.outer(u, v)\n",
        "print(p2)            "
      ],
      "execution_count": 0,
      "outputs": []
    },
    {
      "metadata": {
        "id": "bnq3WGxZPEU3",
        "colab_type": "code",
        "colab": {}
      },
      "cell_type": "code",
      "source": [
        "A = np.ones((2, 3))    #its tuple so we need to be careful\n",
        "B = np.ones((3, 2))\n",
        "np.dot(A, B)"
      ],
      "execution_count": 0,
      "outputs": []
    },
    {
      "metadata": {
        "id": "gCRqUOB4Pjq1",
        "colab_type": "code",
        "colab": {}
      },
      "cell_type": "code",
      "source": [
        "np.dot(B.T, A.T)"
      ],
      "execution_count": 0,
      "outputs": []
    },
    {
      "metadata": {
        "id": "4DR4qkE0P4A7",
        "colab_type": "code",
        "colab": {}
      },
      "cell_type": "code",
      "source": [
        "A = np.ones((2, 3))\n",
        "print(A)"
      ],
      "execution_count": 0,
      "outputs": []
    },
    {
      "metadata": {
        "id": "qY_ejlKtVZXI",
        "colab_type": "code",
        "colab": {}
      },
      "cell_type": "code",
      "source": [
        "A.sum()"
      ],
      "execution_count": 0,
      "outputs": []
    },
    {
      "metadata": {
        "id": "KpYm9RXFVd_G",
        "colab_type": "code",
        "colab": {}
      },
      "cell_type": "code",
      "source": [
        "#column sum\n",
        "A.sum(axis = 0)"
      ],
      "execution_count": 0,
      "outputs": []
    },
    {
      "metadata": {
        "id": "U-Yk3NiqVqv7",
        "colab_type": "code",
        "colab": {}
      },
      "cell_type": "code",
      "source": [
        "#rows sum\n",
        "\n",
        "A.sum(axis = 1)"
      ],
      "execution_count": 0,
      "outputs": []
    },
    {
      "metadata": {
        "id": "f5goLwUbV4cl",
        "colab_type": "code",
        "colab": {}
      },
      "cell_type": "code",
      "source": [
        "A.max()"
      ],
      "execution_count": 0,
      "outputs": []
    },
    {
      "metadata": {
        "id": "hSHv9y1hWUcM",
        "colab_type": "text"
      },
      "cell_type": "markdown",
      "source": [
        "NumPy is the fundamental package for scientific computing with Python. It contains among other things:\n",
        "\n",
        "A powerful **N-dimensional array object\n",
        "sophisticated (broadcasting) functions** \n",
        "tools for integrating C/C++ and Fortran code\n",
        "useful **linear algebra, Fourier transform, and random number capabilities**\n",
        "Besides its obvious scientific uses, NumPy can also be used as an efficient multi-dimensional container of generic data. Arbitrary data-types can be defined. This allows NumPy to seamlessly and speedily integrate with a wide variety of databases.\n",
        ".\n",
        "[NumPy](https://www.numpy.org/)\n",
        "[geekforgeek](https:www.geeksforgeeks.org/python-numpy/)"
      ]
    },
    {
      "metadata": {
        "id": "6-GVJwCLbkdF",
        "colab_type": "text"
      },
      "cell_type": "markdown",
      "source": [
        "**Creating a Numpy Array**\n",
        "Arrays in Numpy can be created by multiple ways, with various number of Ranks, defining the size of the Array. \n",
        "Arrays can also be created with the use of various data types such as lists, tuples, etc. The type of the resultant array is deduced from the type of the elements in the sequences.\n",
        "\n",
        "\n",
        "**Note:** Type of array can be explicitly defined while creating the array."
      ]
    },
    {
      "metadata": {
        "id": "NjwPNmKqbe-Z",
        "colab_type": "code",
        "colab": {}
      },
      "cell_type": "code",
      "source": [
        "# Python program for\n",
        "# Creation of Arrays\n",
        "import numpy as np\n",
        " \n",
        "# Creating a rank 1 Array\n",
        "arr = np.array([1, 2, 3])\n",
        "print(\"Array with Rank 1: \\n\",arr)\n",
        " \n",
        "# Creating a rank 2 Array\n",
        "arr = np.array([[1, 2, 3],\n",
        "                [4, 5, 6]])\n",
        "print(\"Array with Rank 2: \\n\", arr)\n",
        " \n",
        "# Creating an array from tuple\n",
        "arr = np.array((1, 3, 2))\n",
        "print(\"\\nArray created using \"\n",
        "      \"passed tuple:\\n\", arr)"
      ],
      "execution_count": 0,
      "outputs": []
    },
    {
      "metadata": {
        "id": "0aEe0YkUbukF",
        "colab_type": "code",
        "colab": {}
      },
      "cell_type": "code",
      "source": [
        ""
      ],
      "execution_count": 0,
      "outputs": []
    },
    {
      "metadata": {
        "id": "s3VE1Sfmbw6n",
        "colab_type": "text"
      },
      "cell_type": "markdown",
      "source": [
        "**Accessing the array Index**\n",
        "\n",
        "In a numpy array, indexing or accessing the array index can be done in multiple ways.\n",
        "\n",
        "To print a range of an array, slicing is done. \n",
        "\n",
        "Slicing of an array is defining a range in a new array which is used to print a range of elements from the original array. Since, sliced array holds a range of elements of the original array, modifying content with the help of sliced array modifies the original array content."
      ]
    },
    {
      "metadata": {
        "id": "gmiy4EjIcBW-",
        "colab_type": "code",
        "colab": {}
      },
      "cell_type": "code",
      "source": [
        "# Python program to demonstrate\n",
        "# indexing in numpy array\n",
        "import numpy as np\n",
        " \n",
        "# Initial Array\n",
        "arr = np.array([[-1, 2, 0, 4],\n",
        "                [4, -0.5, 6, 0],\n",
        "                [2.6, 0, 7, 8],\n",
        "                [3, -7, 4, 2.0]])\n",
        "print(\"Initial Array: \")\n",
        "print(arr)\n",
        " \n",
        "# Printing a range of Array\n",
        "# with the use of slicing method\n",
        "sliced_arr = arr[:2, ::2]\n",
        "print (\"Array with first 2 rows and\"\n",
        "    \" alternate columns(0 and 2):\\n\", sliced_arr)\n",
        " \n",
        "# Printing elements at\n",
        "# specific Indices\n",
        "Index_arr = arr[[1, 1, 0, 3], \n",
        "                [3, 2, 1, 0]]\n",
        "print (\"\\nElements at indices (1, 3), \"\n",
        "    \"(1, 2), (0, 1), (3, 0):\\n\", Index_arr)"
      ],
      "execution_count": 0,
      "outputs": []
    },
    {
      "metadata": {
        "id": "Gb5jGBoUcGR9",
        "colab_type": "text"
      },
      "cell_type": "markdown",
      "source": [
        "**Basic Array Operations**\n",
        "\n",
        "\n",
        "In numpy, arrays allow a wide range of operations which can be performed on a particular array or a combination of Arrays. These operation include some basic Mathematical operation as well as Unary and Binary operations."
      ]
    },
    {
      "metadata": {
        "id": "TY-ZmTwjcJPF",
        "colab_type": "code",
        "colab": {}
      },
      "cell_type": "code",
      "source": [
        "# Python program to demonstrate\n",
        "# basic operations on single array\n",
        "import numpy as np\n",
        " \n",
        "# Defining Array 1\n",
        "a = np.array([[1, 2],\n",
        "              [3, 4]])\n",
        " \n",
        "# Defining Array 2\n",
        "b = np.array([[4, 3],\n",
        "              [2, 1]])\n",
        "               \n",
        "# Adding 1 to every element\n",
        "print (\"Adding 1 to every element:\", a + 1)\n",
        " \n",
        "# Subtracting 2 from each element\n",
        "print (\"\\nSubtracting 2 from each element:\", b - 2)\n",
        " \n",
        "# sum of array elements\n",
        "# Performing Unary operations\n",
        "print (\"\\nSum of all array \"\n",
        "       \"elements: \", a.sum())\n",
        " \n",
        "# Adding two arrays\n",
        "# Performing Binary operations\n",
        "print (\"\\nArray sum:\\n\", a + b)"
      ],
      "execution_count": 0,
      "outputs": []
    },
    {
      "metadata": {
        "id": "fzXIB2QHcc-0",
        "colab_type": "code",
        "colab": {}
      },
      "cell_type": "code",
      "source": [
        "# Constructing a Datatype Object\n",
        "# In Numpy, datatypes of Arrays need not to be defined unless a specific datatype is required.\n",
        "# Numpy tries to guess the datatype for Arrays which are not predefined in the constructor function.\n",
        "\n",
        "# Python Program to create\n",
        "# a data type object\n",
        "import numpy as np\n",
        " \n",
        "# Integer datatype\n",
        "# guessed by Numpy\n",
        "x = np.array([1, 2])  \n",
        "print(\"Integer Datatype: \")\n",
        "print(x.dtype)         \n",
        " \n",
        "# Float datatype\n",
        "# guessed by Numpy\n",
        "x = np.array([1.0, 2.0]) \n",
        "print(\"\\nFloat Datatype: \")\n",
        "print(x.dtype)  \n",
        " \n",
        "# Forced Datatype\n",
        "x = np.array([1, 2], dtype = np.int64)   \n",
        "print(\"\\nForcing a Datatype: \")\n",
        "print(x.dtype)"
      ],
      "execution_count": 0,
      "outputs": []
    },
    {
      "metadata": {
        "id": "ic2kKPHAdTQN",
        "colab_type": "text"
      },
      "cell_type": "markdown",
      "source": [
        "# plotting using Matplotlib, Seaborn, Pandas"
      ]
    },
    {
      "metadata": {
        "id": "RnvjGkZeEkL1",
        "colab_type": "text"
      },
      "cell_type": "markdown",
      "source": [
        "\n",
        "*   Matplotlib is an amazing visualization library in Python for 2D plots of arrays. Matplotlib is a multi-platform data visualization library built on NumPy arrays and designed to work with the broader SciPy stack. It was introduced by John Hunter in the year 2002.\n",
        "*   One of the greatest benefits of visualization is that it allows us visual access to huge amounts of data in easily digestible visuals. Matplotlib consists of several plots like line, bar, scatter, histogram etc.\n",
        "\n",
        "**Importing matplotlib :**\n",
        "\n",
        "*  **`from matplotlib import pyplot as plt`**\n",
        "*  **`import matplotlib.pyplot as plt `**\n",
        "\n",
        "\n"
      ]
    },
    {
      "metadata": {
        "id": "xlIfnv7KEbUB",
        "colab_type": "code",
        "colab": {}
      },
      "cell_type": "code",
      "source": [
        "# Line plot :\n",
        "\n",
        "# importing matplotlib module \n",
        "from matplotlib import pyplot as plt \n",
        "\n",
        "# x-axis values \n",
        "x = [5, 2, 9, 4, 7] \n",
        "\n",
        "# Y-axis values \n",
        "y = [10, 5, 8, 4, 2] \n",
        "\n",
        "# Function to plot \n",
        "plt.plot(x,y) \n",
        "\n",
        "# function to show the plot \n",
        "plt.show() \n"
      ],
      "execution_count": 0,
      "outputs": []
    },
    {
      "metadata": {
        "id": "Vy05hPyKFzQH",
        "colab_type": "code",
        "colab": {}
      },
      "cell_type": "code",
      "source": [
        "#Bar plot :\n",
        "\n",
        "# importing matplotlib module \n",
        "from matplotlib import pyplot as plt \n",
        "\n",
        "# x-axis values \n",
        "x = [5, 2, 9, 4, 7] \n",
        "\n",
        "# Y-axis values \n",
        "y = [10, 5, 8, 4, 2] \n",
        "\n",
        "# Function to plot the bar \n",
        "plt.bar(x,y) \n",
        "\n",
        "# function to show the plot \n",
        "plt.show() \n"
      ],
      "execution_count": 0,
      "outputs": []
    },
    {
      "metadata": {
        "id": "2ltGVeFeGCol",
        "colab_type": "code",
        "colab": {}
      },
      "cell_type": "code",
      "source": [
        "# Histogram :\n",
        "\n",
        "# importing matplotlib module \n",
        "from matplotlib import pyplot as plt \n",
        "\n",
        "# Y-axis values \n",
        "y = [10, 5, 8, 4, 2] \n",
        "\n",
        "# Function to plot histogram \n",
        "plt.hist(y) \n",
        "\n",
        "# Function to show the plot \n",
        "plt.show() \n"
      ],
      "execution_count": 0,
      "outputs": []
    },
    {
      "metadata": {
        "id": "4BMJGLMPGKAw",
        "colab_type": "code",
        "colab": {}
      },
      "cell_type": "code",
      "source": [
        "# Scatter Plot :\n",
        "\n",
        "# importing matplotlib module \n",
        "from matplotlib import pyplot as plt \n",
        "\n",
        "# x-axis values \n",
        "x = [5, 2, 9, 4, 7] \n",
        "\n",
        "# Y-axis values \n",
        "y = [10, 5, 8, 4, 2] \n",
        "\n",
        "# Function to plot scatter \n",
        "plt.scatter(x, y) \n",
        "\n",
        "# function to show the plot \n",
        "plt.show() \n"
      ],
      "execution_count": 0,
      "outputs": []
    },
    {
      "metadata": {
        "id": "TbEdsoqre4LL",
        "colab_type": "code",
        "colab": {}
      },
      "cell_type": "code",
      "source": [
        "import matplotlib.pyplot as plt\n",
        "import numpy as np\n"
      ],
      "execution_count": 0,
      "outputs": []
    },
    {
      "metadata": {
        "id": "2FF9yL1Te_qo",
        "colab_type": "code",
        "colab": {}
      },
      "cell_type": "code",
      "source": [
        "# creating a random number and putting into an array : size 10 rows and one column\n",
        "# genrate the random number between zero and one\n",
        "\n",
        "x = np.random.random((10, 1))\n",
        "print(x)\n"
      ],
      "execution_count": 0,
      "outputs": []
    },
    {
      "metadata": {
        "id": "lYrNCS0cfIAx",
        "colab_type": "code",
        "colab": {}
      },
      "cell_type": "code",
      "source": [
        "plt.plot(x)\n",
        "plt.show()\n",
        "\n",
        "#values are taken as y-axis & indices are taken as x axis\n",
        "#this for something very few number of values\n"
      ],
      "execution_count": 0,
      "outputs": []
    },
    {
      "metadata": {
        "id": "BUcGncpnf8SP",
        "colab_type": "code",
        "colab": {}
      },
      "cell_type": "code",
      "source": [
        "plt.plot(x, '*')\n",
        "plt.show()"
      ],
      "execution_count": 0,
      "outputs": []
    },
    {
      "metadata": {
        "id": "yNmWR81EhPM8",
        "colab_type": "code",
        "colab": {}
      },
      "cell_type": "code",
      "source": [
        "# we can include both of them i.e both the lines and the point\n",
        "\n",
        "plt.plot(x, '*-')\n",
        "plt.show()"
      ],
      "execution_count": 0,
      "outputs": []
    },
    {
      "metadata": {
        "id": "DVkHAQvji8cv",
        "colab_type": "text"
      },
      "cell_type": "markdown",
      "source": [
        " If we want to see something which has more number of plot\n",
        " we can use the **linerspace** :\n",
        " \n",
        " Which will take the first two arguments [0, 10]\n",
        " it interpolates 100 points between zero and one with equal spacing.\n",
        " \n",
        " In the previous case we are **single dimensional array**...so the index become the default **X-axis** and **Y- axis **  become the values.\n",
        " \n",
        " But below  we have x and y values--- **X** is some continious scale of numbers and** Y** contain for each such number a square root."
      ]
    },
    {
      "metadata": {
        "id": "4_O3cMFEhjGk",
        "colab_type": "code",
        "colab": {}
      },
      "cell_type": "code",
      "source": [
        "x = np.linspace(0, 10, 100)\n",
        "y = np.power(x, 0.5)\n",
        "plt.plot(x, y)\n",
        "plt.show()"
      ],
      "execution_count": 0,
      "outputs": []
    },
    {
      "metadata": {
        "id": "H2X_WVOak4zh",
        "colab_type": "code",
        "colab": {}
      },
      "cell_type": "code",
      "source": [
        "x = np.linspace(0, 10, 50)\n",
        "y = np.power(x, 2)\n",
        "plt.plot(x, y, '*')\n",
        "plt.show()"
      ],
      "execution_count": 0,
      "outputs": []
    },
    {
      "metadata": {
        "id": "vdmIxR27lXA0",
        "colab_type": "code",
        "colab": {}
      },
      "cell_type": "code",
      "source": [
        "import seaborn as sns"
      ],
      "execution_count": 0,
      "outputs": []
    },
    {
      "metadata": {
        "id": "HHF5V4LWnFa5",
        "colab_type": "code",
        "colab": {}
      },
      "cell_type": "code",
      "source": [
        "# set some properties that change the way matplotlib plot interms of ploting\n",
        "\n",
        "sns.set()"
      ],
      "execution_count": 0,
      "outputs": []
    },
    {
      "metadata": {
        "id": "jpTGeh0bnIuM",
        "colab_type": "code",
        "colab": {}
      },
      "cell_type": "code",
      "source": [
        "sns.lineplot(x, y)\n",
        "plt.show()"
      ],
      "execution_count": 0,
      "outputs": []
    },
    {
      "metadata": {
        "id": "QMpATwIKny-f",
        "colab_type": "code",
        "colab": {}
      },
      "cell_type": "code",
      "source": [
        "!pip install seaborn==0.9.0"
      ],
      "execution_count": 0,
      "outputs": []
    },
    {
      "metadata": {
        "id": "s5A1wJWjn4D9",
        "colab_type": "code",
        "colab": {}
      },
      "cell_type": "code",
      "source": [
        "!wget https://www.dropbox.com/s/w94odi4aq1k44lf/mobile_cleaned.csv"
      ],
      "execution_count": 0,
      "outputs": []
    },
    {
      "metadata": {
        "id": "R371JkMEouWP",
        "colab_type": "code",
        "colab": {}
      },
      "cell_type": "code",
      "source": [
        "!ls  # to see the file\n"
      ],
      "execution_count": 0,
      "outputs": []
    },
    {
      "metadata": {
        "id": "sX4HMvxToymF",
        "colab_type": "code",
        "colab": {}
      },
      "cell_type": "code",
      "source": [
        "import pandas as pd\n",
        "data = pd.read_csv('mobile_cleaned.csv')\n",
        "data.head()"
      ],
      "execution_count": 0,
      "outputs": []
    },
    {
      "metadata": {
        "id": "jy9sqU3xphdL",
        "colab_type": "code",
        "colab": {}
      },
      "cell_type": "code",
      "source": [
        "# 'ax' is the handler for the axis\n",
        "# plot for two varibles \n",
        "\n",
        "ax = sns.scatterplot(x = \"stand_by_time\", y = \"battery_capacity\", data = data)\n",
        "plt.show()"
      ],
      "execution_count": 0,
      "outputs": []
    },
    {
      "metadata": {
        "id": "cIS90sr7pwFh",
        "colab_type": "code",
        "colab": {}
      },
      "cell_type": "code",
      "source": [
        "# we can also include several varible into our plot\n",
        "\n",
        "ax = sns.scatterplot(x = \"stand_by_time\", y = \"battery_capacity\", hue = \"thickness\", data = data)"
      ],
      "execution_count": 0,
      "outputs": []
    },
    {
      "metadata": {
        "id": "KkWWX29bsJH-",
        "colab_type": "code",
        "colab": {}
      },
      "cell_type": "code",
      "source": [
        "# histograms... use sq braces\n",
        "# we have the histogram which shows the sand_by_time on X-axis and Y-axis contain a normalise frequency\n",
        "# 300 is the peak of this distribution\n",
        "\n",
        "ax = sns.distplot(data[\"stand_by_time\"])"
      ],
      "execution_count": 0,
      "outputs": []
    },
    {
      "metadata": {
        "id": "D90JK_petInp",
        "colab_type": "code",
        "colab": {}
      },
      "cell_type": "code",
      "source": [
        "ax = sns.distplot(data[\"stand_by_time\"], kde = False, rug = True, bins = 20)\n"
      ],
      "execution_count": 0,
      "outputs": []
    },
    {
      "metadata": {
        "id": "vxbl_mfjveiJ",
        "colab_type": "text"
      },
      "cell_type": "markdown",
      "source": [
        "[lSeaborn](https://seaborn.pydata.org/generated/seaborn.distplot.html)\n",
        "\n",
        "**bins : **argument for matplotlib hist(), or None, optional\n",
        "\n",
        "Specification of hist bins, or None to use Freedman-Diaconis rule.\n",
        "\n",
        "**kde** : bool, optional\n",
        "\n",
        "Whether to plot a gaussian kernel density estimate.\n",
        "\n",
        "**rug** : bool, optional\n",
        "\n",
        "Whether to draw a rugplot on the support axis.\n",
        "\n",
        "\n",
        "**kdeplot**\n",
        "Show a univariate or bivariate distribution with a kernel density estimate.\n",
        "\n",
        "**rugplot**\n",
        "Draw small vertical lines to show each observation in a distributio"
      ]
    },
    {
      "metadata": {
        "id": "eJvI7i2Xu4lx",
        "colab_type": "code",
        "colab": {}
      },
      "cell_type": "code",
      "source": [
        "ax = sns.boxplot(x =\"is_liked\", y =\"battery_capacity\", data=data)"
      ],
      "execution_count": 0,
      "outputs": []
    },
    {
      "metadata": {
        "id": "94i2a_ROx0cr",
        "colab_type": "code",
        "colab": {}
      },
      "cell_type": "code",
      "source": [
        "ax = sns.boxplot(x = \"expandable_memory\", y = \"price\", data=data)"
      ],
      "execution_count": 0,
      "outputs": []
    },
    {
      "metadata": {
        "id": "kdI6bJn_ye9n",
        "colab_type": "code",
        "colab": {}
      },
      "cell_type": "code",
      "source": [
        "uniform_data = np.random.rand(10, 12)    #creating the matrix of size (10, 12), that contain some random number \n",
        "print(uniform_data)"
      ],
      "execution_count": 0,
      "outputs": []
    },
    {
      "metadata": {
        "id": "Mtu_bASXy9n9",
        "colab_type": "code",
        "colab": {}
      },
      "cell_type": "code",
      "source": [
        "# heatmap ~ can be use to visualise the perfoprmance of the parameter\n",
        "\n",
        "ax = sns.heatmap(uniform_data)"
      ],
      "execution_count": 0,
      "outputs": []
    },
    {
      "metadata": {
        "id": "90y_fShezYQf",
        "colab_type": "code",
        "colab": {}
      },
      "cell_type": "code",
      "source": [
        "# to change the color\n",
        "ax = sns.heatmap(uniform_data, cmap = \"YlGnBu\")"
      ],
      "execution_count": 0,
      "outputs": []
    },
    {
      "metadata": {
        "id": "0Bi9ADmw8jzN",
        "colab_type": "code",
        "colab": {}
      },
      "cell_type": "code",
      "source": [
        "!wget https://s3.amazonaws.com/thinkific-import/153034/3f9yaVLKTyUGmlBPcSOA_logo_long.png\n",
        "  "
      ],
      "execution_count": 0,
      "outputs": []
    },
    {
      "metadata": {
        "id": "wOQcQkpP8zJ-",
        "colab_type": "code",
        "colab": {}
      },
      "cell_type": "code",
      "source": [
        "!ls\n"
      ],
      "execution_count": 0,
      "outputs": []
    },
    {
      "metadata": {
        "id": "aXGbK8w2811b",
        "colab_type": "code",
        "colab": {}
      },
      "cell_type": "code",
      "source": [
        "#renaming the file\n",
        "\n",
        "!mv 3f9yaVLKTyUGmlBPcSOA_logo_long.png onefourthlabs.png"
      ],
      "execution_count": 0,
      "outputs": []
    },
    {
      "metadata": {
        "id": "mS3oNfTe9K5D",
        "colab_type": "code",
        "colab": {}
      },
      "cell_type": "code",
      "source": [
        "!ls\n"
      ],
      "execution_count": 0,
      "outputs": []
    },
    {
      "metadata": {
        "id": "Y6JAloaW9O_h",
        "colab_type": "code",
        "colab": {}
      },
      "cell_type": "code",
      "source": [
        "import matplotlib.image as mpimg"
      ],
      "execution_count": 0,
      "outputs": []
    },
    {
      "metadata": {
        "id": "7-Bd3xjW9byj",
        "colab_type": "code",
        "colab": {}
      },
      "cell_type": "code",
      "source": [
        "img = mpimg.imread('onefourthlabs.png')"
      ],
      "execution_count": 0,
      "outputs": []
    },
    {
      "metadata": {
        "id": "ljFAd7HY9vv_",
        "colab_type": "code",
        "colab": {}
      },
      "cell_type": "code",
      "source": [
        "print(img)\n",
        "\n",
        "# so many zeros becoz image is png with traspraent background"
      ],
      "execution_count": 0,
      "outputs": []
    },
    {
      "metadata": {
        "id": "FyiI41V--DG2",
        "colab_type": "code",
        "colab": {}
      },
      "cell_type": "code",
      "source": [
        "imgplot = plt.imshow(img)"
      ],
      "execution_count": 0,
      "outputs": []
    },
    {
      "metadata": {
        "id": "fgRxnT7q_GWt",
        "colab_type": "text"
      },
      "cell_type": "markdown",
      "source": [
        "**seaborn**:-statistical visualization library in Python\n",
        "\n",
        "`seaborn.distplot(a, bins=None, hist=True, kde=True, rug=False, fit=None, hist_kws=None, kde_kws=None, rug_kws=None, fit_kws=None, color=None, vertical=False, norm_hist=False, axlabel=None, label=None, ax=None)`\n",
        "\n",
        "Flexibly plot a univariate distribution of observations.\n",
        "\n",
        "This function combines the matplotlib hist function (with automatic calculation of a good default bin size) with the seaborn `kdeplot()` and `rugplot()` functions. It can also fit `scipy.stats` distributions and plot the estimated PDF over the data."
      ]
    },
    {
      "metadata": {
        "id": "DJAZfZFo-m6n",
        "colab_type": "code",
        "colab": {}
      },
      "cell_type": "code",
      "source": [
        "import seaborn as sns, numpy as np\n",
        "sns.set(); np.random.seed(0)\n",
        "x = np.random.randn(100)\n",
        "ax = sns.distplot(x)"
      ],
      "execution_count": 0,
      "outputs": []
    },
    {
      "metadata": {
        "id": "rzBErSOl_v_t",
        "colab_type": "code",
        "colab": {}
      },
      "cell_type": "code",
      "source": [
        "#Use Pandas objects to get an informative axis label:\n",
        "\n",
        "import pandas as pd\n",
        "x = pd.Series(x, name=\"x variable\")\n",
        "ax = sns.distplot(x)"
      ],
      "execution_count": 0,
      "outputs": []
    },
    {
      "metadata": {
        "id": "9UklKMHeAhPl",
        "colab_type": "code",
        "colab": {}
      },
      "cell_type": "code",
      "source": [
        "# Plot the distribution with a kernel density estimate and rug plot:\n",
        "ax = sns.distplot(x, rug=True, hist=False)\n",
        "\n"
      ],
      "execution_count": 0,
      "outputs": []
    },
    {
      "metadata": {
        "id": "9iQoCjFRArjJ",
        "colab_type": "code",
        "colab": {}
      },
      "cell_type": "code",
      "source": [
        "# Plot the distribution with a histogram and maximum likelihood gaussian distribution fit:\n",
        "\n",
        "from scipy.stats import norm\n",
        "ax = sns.distplot(x, fit=norm, kde=False)"
      ],
      "execution_count": 0,
      "outputs": []
    },
    {
      "metadata": {
        "id": "_TQKdFm1BIOE",
        "colab_type": "code",
        "colab": {}
      },
      "cell_type": "code",
      "source": [
        "# Plotting categorical scatter plots with Seaborn\n",
        "\n",
        "# Python program to illustrate \n",
        "# Plotting categorical scatter \n",
        "# plots with Seaborn \n",
        "\n",
        "# importing the required module \n",
        "import matplotlib.pyplot as plt \n",
        "import seaborn as sns \n",
        "\n",
        "# x axis values \n",
        "x =['sun', 'mon', 'fri', 'sat', 'tue', 'wed', 'thu'] \n",
        "\n",
        "# y axis values \n",
        "y =[5, 6.7, 4, 6, 2, 4.9, 1.8] \n",
        "\n",
        "# plotting strip plot with seaborn \n",
        "ax = sns.stripplot(x, y); \n",
        "\n",
        "# giving labels to x-axis and y-axis \n",
        "ax.set(xlabel ='Days', ylabel ='Amount_spend') \n",
        "\n",
        "# giving title to the plot \n",
        "plt.title('My first graph'); \n",
        "\n",
        "# function to show plot \n",
        "plt.show() \n",
        "\n"
      ],
      "execution_count": 0,
      "outputs": []
    },
    {
      "metadata": {
        "id": "qgcWS86tBrCR",
        "colab_type": "text"
      },
      "cell_type": "markdown",
      "source": [
        "**Explanation **:- This is the one of kind of scatter plot of categorical data with the help of seaborn.\n",
        "\n",
        "\n",
        "1.   Categorical data is represented in x-axis and values correspond to them represented through y-axis.\n",
        "\n",
        "2.  **`.striplot()`** function is used to define the type of the plot and to plot them on canvas using .\n",
        "\n",
        "3.  **.`set()`** function is use to set labels of x-axis and y-aixs.\n",
        "\n",
        "4.  **`.title()`** function is used to give title to the graph.\n",
        "\n",
        "5.  To view plot we use **`.show()**` function\n",
        "\n"
      ]
    },
    {
      "metadata": {
        "id": "bldfk9TBBo2K",
        "colab_type": "code",
        "colab": {}
      },
      "cell_type": "code",
      "source": [
        "# Stripplot using inbuilt data-set given in seaborn :\n",
        "\n",
        "# Python program to illustrate \n",
        "# Stripplot using inbuilt data-set \n",
        "# given in seaborn \n",
        "\n",
        "# importing the required module \n",
        "import matplotlib.pyplot as plt \n",
        "import seaborn as sns \n",
        "\n",
        "# use to set style of background of plot \n",
        "sns.set(style =\"whitegrid\") \n",
        "\n",
        "# loading data-set \n",
        "iris = sns.load_dataset('iris'); \n",
        "\n",
        "# plotting strip plot with seaborn \n",
        "# deciding the attributes of dataset on which plot should be made \n",
        "ax = sns.stripplot(x = 'species', y = 'sepal_length', data = iris); \n",
        "\n",
        "# giving title to the plot \n",
        "plt.title('Graph') \n",
        "\n",
        "# function to show plot \n",
        "plt.show() \n"
      ],
      "execution_count": 0,
      "outputs": []
    },
    {
      "metadata": {
        "id": "sXFVKCKSCowT",
        "colab_type": "text"
      },
      "cell_type": "markdown",
      "source": [
        "**Explanation:**\n",
        "\n",
        "\n",
        "\n",
        "*  ** iris** is the dataset already present in seaborn module for use.\n",
        "*   We use **.load_dataset()** function in order to load the data.We can also load any other file by giving path and name of file in the argument.\n",
        "\n",
        "*  ** .set(style=”whitegrid”)** function here is also use to define the background of plot.We can use **“darkgrid”**. instead of whitegrid if we want dark colored background.\n",
        "* ** In .stripplot()** function we have define which attribute of the dataset to be on x-axis and which attribute of dataset should on y-axis.data = iris means attributes which we define earlier should be taken from the given data.\n",
        "\n",
        "\n",
        "*   We can also draw this plot with matplotlib but problem with matplotlib is its default parameters. The reason why Seaborn is so great with DataFrames is, for example, labels from DataFrames are automatically propagated to plots or other data structures as you see in the above figure column name **species** comes on x-axis and column name **stepal_length** comes on y-aixs, that is not possible with matplotlib. We have to explicitly define the labels of x-axis and y-axis.\n",
        "\n",
        "\n",
        "\n",
        "\n",
        "\n"
      ]
    },
    {
      "metadata": {
        "id": "i5VRtIm4Dgz3",
        "colab_type": "code",
        "colab": {}
      },
      "cell_type": "code",
      "source": [
        "# importing the required module \n",
        "import matplotlib.pyplot as plt \n",
        "import seaborn as sns \n",
        "\n",
        "# use to set style of background of plot \n",
        "sns.set(style =\"whitegrid\") \n",
        "\n",
        "# loading data-set \n",
        "iris = sns.load_dataset('iris'); \n",
        "\n",
        "# plotting strip plot with seaborn \n",
        "# deciding the attributes of dataset on which plot should be made \n",
        "ax = sns.swarmplot(x = 'sepal_length', y = 'species', data = iris); \n",
        "\n",
        "\n",
        "# giving title to the plot \n",
        "plt.title('Graph') \n",
        "\n",
        "# function to show plot \n",
        "plt.show() \n"
      ],
      "execution_count": 0,
      "outputs": []
    },
    {
      "metadata": {
        "id": "aG8jUu7z-vum",
        "colab_type": "text"
      },
      "cell_type": "markdown",
      "source": [
        "# PANDAS (Depth)"
      ]
    },
    {
      "metadata": {
        "id": "0w440hFHGo8A",
        "colab_type": "text"
      },
      "cell_type": "markdown",
      "source": [
        "**Python | Data analysis using Pandas**\n",
        "\n",
        "\n",
        "*   Pandas is the most popular python library that is used for data analysis. It provides highly optimized performance with back-end source code is purely written in C or Python.\n",
        "*   We can analyze data in pandas with:\n",
        "---------------->   Series\n",
        "---------------->   DataFrames\n",
        "\n"
      ]
    },
    {
      "metadata": {
        "id": "t9etBAmvGn8E",
        "colab_type": "code",
        "colab": {}
      },
      "cell_type": "code",
      "source": [
        "# Code #1: Creating Series\n",
        "\n",
        "# Program to create series \n",
        "import pandas as pd\n",
        "\n",
        "# Import Panda Library \n",
        "\n",
        "# Create series with Data, and Index \n",
        "\n",
        "a = pd.Series(data, index = Index) \n"
      ],
      "execution_count": 0,
      "outputs": []
    },
    {
      "metadata": {
        "id": "HAJVdQ4VJvZJ",
        "colab_type": "text"
      },
      "cell_type": "markdown",
      "source": [
        "**Here, Data can be:**\n",
        "\n",
        "\n",
        "\n",
        "1.   A **Scalar value** which can be integerValue, string\n",
        "2.   A **Python Dictionary **which can be Key, Value pair\n",
        "3.   A **Ndarray**\n",
        "\n"
      ]
    },
    {
      "metadata": {
        "id": "PJ4WUKLzJnB4",
        "colab_type": "code",
        "colab": {}
      },
      "cell_type": "code",
      "source": [
        "#  Code #2: When Data contains scalar values\n",
        "\n",
        "# Program to Create series with scalar values \n",
        "Data =[1, 3, 4, 5, 6, 2, 9] # Numeric data \n",
        "\n",
        "# Creating series with default index values \n",
        "s = pd.Series(Data)\t \n",
        "\n",
        "# predefined index values \n",
        "Index =['a', 'b', 'c', 'd', 'e', 'f', 'g'] \n",
        "\n",
        "# Creating series with predefined index values \n",
        "si = pd.Series(Data, Index) \n"
      ],
      "execution_count": 0,
      "outputs": []
    },
    {
      "metadata": {
        "id": "w4of0VQVRjX2",
        "colab_type": "text"
      },
      "cell_type": "markdown",
      "source": [
        "[Scalar Data with default Index](https://cdncontribute.geeksforgeeks.org/wp-content/uploads/panda1.png)\n",
        "\n",
        "\n",
        "[Scalar Data with Index](https://cdncontribute.geeksforgeeks.org/wp-content/uploads/panda2.png)"
      ]
    },
    {
      "metadata": {
        "id": "5KSWRCsiNIG4",
        "colab_type": "code",
        "colab": {}
      },
      "cell_type": "code",
      "source": [
        "# Program to Create Dictionary series \n",
        "dictionary ={'a':1, 'b':2, 'c':3, 'd':4, 'e':5}  \n",
        "  \n",
        "# Creating series of Dictionary type \n",
        "sd = pd.Series(dictionary) "
      ],
      "execution_count": 0,
      "outputs": []
    },
    {
      "metadata": {
        "id": "dwdHmgkVSZLw",
        "colab_type": "text"
      },
      "cell_type": "markdown",
      "source": [
        "[Dictionary type data](https://cdncontribute.geeksforgeeks.org/wp-content/uploads/panda3.png)"
      ]
    },
    {
      "metadata": {
        "id": "6icqPSPRQV-r",
        "colab_type": "code",
        "colab": {}
      },
      "cell_type": "code",
      "source": [
        "#Code #1: Creation of DataFrame\n",
        "# DataFrames is two-dimensional(2-D) data structure defined in pandas which consists of rows and columns.\n",
        "\n",
        "# Program to Create DataFrame \n",
        "import pandas as pd # Import Library \n",
        "\n",
        "a = pd.DataFrame(Data) # Create DataFrame with Data \n"
      ],
      "execution_count": 0,
      "outputs": []
    },
    {
      "metadata": {
        "id": "pD3Lp7wmQlx3",
        "colab_type": "text"
      },
      "cell_type": "markdown",
      "source": [
        "**Here, Data can be:**\n",
        "\n",
        "\n",
        "\n",
        "1. **One or more dictionaries**\n",
        "\n",
        "2. **One or more Series**\n",
        "\n",
        "3. **2D-numpy Ndarray**\n",
        " "
      ]
    },
    {
      "metadata": {
        "id": "fwj1ZoX3RBZU",
        "colab_type": "code",
        "colab": {}
      },
      "cell_type": "code",
      "source": [
        "# Code #2: When Data is Dictionaries\n",
        "\n",
        "# Program to Create Data Frame with two dictionaries \n",
        "dict1 ={'a':1, 'b':2, 'c':3, 'd':4}\t # Define Dictionary 1 \n",
        "dict2 ={'a':5, 'b':6, 'c':7, 'd':8, 'e':9} # Define Dictionary 2 \n",
        "Data = {'first':dict1, 'second':dict2} # Define Data with dict1 and dict2 \n",
        "df = pd.DataFrame(Data) # Create DataFrame \n"
      ],
      "execution_count": 0,
      "outputs": []
    },
    {
      "metadata": {
        "id": "a_OATVarRJhe",
        "colab_type": "text"
      },
      "cell_type": "markdown",
      "source": [
        "![output](https://cdncontribute.geeksforgeeks.org/wp-content/uploads/panda5.png)"
      ]
    },
    {
      "metadata": {
        "id": "sjhIjJydRpQd",
        "colab_type": "code",
        "colab": {}
      },
      "cell_type": "code",
      "source": [
        "#Code #3: When Data is Series\n",
        "\n",
        "\n",
        "# Program to create Dataframe of three series \n",
        "import pandas as pd \n",
        "\n",
        "s1 = pd.Series([1, 3, 4, 5, 6, 2, 9])\t\t # Define series 1 \n",
        "s2 = pd.Series([1.1, 3.5, 4.7, 5.8, 2.9, 9.3]) # Define series 2 \n",
        "s3 = pd.Series(['a', 'b', 'c', 'd', 'e'])\t # Define series 3 \n",
        "\n",
        "\n",
        "Data ={'first':s1, 'second':s2, 'third':s3} # Define Data \n",
        "dfseries = pd.DataFrame(Data)\t\t\t # Create DataFrame \n"
      ],
      "execution_count": 0,
      "outputs": []
    },
    {
      "metadata": {
        "id": "vROkt8s5SsJT",
        "colab_type": "text"
      },
      "cell_type": "markdown",
      "source": [
        "[DataFrame with three series](https://cdncontribute.geeksforgeeks.org/wp-content/uploads/panda6.png)"
      ]
    },
    {
      "metadata": {
        "id": "lji4H9-iS9hY",
        "colab_type": "code",
        "colab": {}
      },
      "cell_type": "code",
      "source": [
        "# Code #4: When Data is 2D-numpy ndarray\n",
        "\n",
        "# Program to create DataFrame from 2D array \n",
        "import pandas as pd # Import Library \n",
        "d1 =[[2, 3, 4], [5, 6, 7]] # Define 2d array 1 \n",
        "d2 =[[2, 4, 8], [1, 3, 9]] # Define 2d array 2 \n",
        "Data ={'first': d1, 'second': d2} # Define Data \n",
        "df2d = pd.DataFrame(Data) # Create DataFrame \n"
      ],
      "execution_count": 0,
      "outputs": []
    },
    {
      "metadata": {
        "id": "mYmA8OmuTEDW",
        "colab_type": "text"
      },
      "cell_type": "markdown",
      "source": [
        "[DataFrame with 2d ndarray](https://cdncontribute.geeksforgeeks.org/wp-content/uploads/panda.png)"
      ]
    }
  ]
}