{
  "nbformat": 4,
  "nbformat_minor": 0,
  "metadata": {
    "colab": {
      "name": "5. MP_Neuron.ipynb",
      "version": "0.3.2",
      "provenance": [],
      "collapsed_sections": [
        "6lyD-FevXtH5",
        "FFEobpRTYCCf",
        "Oyuq9r4SNm3A"
      ],
      "toc_visible": true
    },
    "kernelspec": {
      "name": "python3",
      "display_name": "Python 3"
    },
    "accelerator": "GPU"
  },
  "cells": [
    {
      "metadata": {
        "id": "23IH5gI-BYYh",
        "colab_type": "text"
      },
      "cell_type": "markdown",
      "source": [
        "**What is scikit-learn?**\n",
        "\n",
        "Scikit-learn provides a range of supervised and unsupervised learning algorithms via a consistent interface in Python.\n",
        "\n",
        "It is licensed under a permissive simplified BSD license and is distributed under many Linux distributions, encouraging academic and commercial use.\n",
        "\n",
        "The library is built upon the SciPy (Scientific Python) that must be installed before you can use scikit-learn. **This stack that includes:**\n",
        "\n",
        "* **NumPy: **Base n-dimensional array package\n",
        "* **SciPy:** Fundamental library for scientific computing\n",
        "* **Matplotlib:** Comprehensive 2D/3D plotting\n",
        "* **IPython: **Enhanced interactive console\n",
        "* **Sympy:** Symbolic mathematics\n",
        "* **Pandas:** Data structures and analysis\n",
        "Extensions or modules for SciPy care conventionally named SciKits. As such, the module provides learning algorithms and is named scikit-learn.\n",
        "\n",
        "The vision for the library is a level of robustness and support required for use in production systems. This means a deep focus on concerns such as easy of use, code quality, collaboration, documentation and performance.\n",
        "\n",
        "Although the interface is Python, c-libraries are leverage for performance such as numpy for arrays and matrix operations, LAPACK, LibSVM and the careful use of cython.\n",
        "\n",
        "\n",
        "\n"
      ]
    },
    {
      "metadata": {
        "id": "z6ay5JIJC5IJ",
        "colab_type": "text"
      },
      "cell_type": "markdown",
      "source": [
        "**What are the features?**\n",
        "\n",
        "The library is focused on modeling data. It is not focused on loading, manipulating and summarizing data. For these features, refer to NumPy and Pandas.\n",
        "\n",
        "Some popular groups of models provided by scikit-learn include:\n",
        "\n",
        "* **Clustering: **for grouping unlabeled data such as KMeans.\n",
        "* **Cross Validation:** for estimating the performance of supervised models on unseen data.\n",
        "* **Datasets:** for test datasets and for generating datasets with specific properties for investigating model behavior.\n",
        "* **Dimensionality Reduction:** for reducing the number of attributes in data for summarization, visualization and feature selection such as Principal component analysis.\n",
        "* **Ensemble methods:** for combining the predictions of multiple supervised models.\n",
        "* **Feature extraction:** for defining attributes in image and text data.\n",
        "* **Feature selection:** for identifying meaningful attributes from which to create supervised models.\n",
        "* **Parameter Tuning:** for getting the most out of supervised models.\n",
        "* **Manifold Learning:** For summarizing and depicting complex multi-dimensional data.\n",
        "* **Supervised Models:** a vast array not limited to generalized linear models, discriminate analysis, naive bayes, lazy methods, neural networks, support vector machines and decision trees."
      ]
    },
    {
      "metadata": {
        "id": "fBt-5ThBDtZA",
        "colab_type": "text"
      },
      "cell_type": "markdown",
      "source": [
        "**Sample Decision Tree Classifier**\n",
        "\n",
        "`from sklearn import datasets`\n",
        "\n",
        "`from sklearn import metrics`\n",
        "\n",
        "`from sklearn.tree import DecisionTreeClassifier`\n",
        "\n",
        "** load the iris datasets**\n",
        "\n",
        "`**dataset = datasets.load_iris()**`\n",
        "\n",
        "**fit a CART model to the data**\n",
        "\n",
        "`model = DecisionTreeClassifier()`\n",
        "\n",
        "`model.fit(dataset.data, dataset.target)`\n",
        "\n",
        "`print(model)\n",
        "`\n",
        "\n",
        "\n",
        "**make predictions**\n",
        "\n",
        "`expected = dataset.target`\n",
        "\n",
        "`predicted = model.predict(dataset.data)`\n",
        "\n",
        "\n",
        "\n",
        "**summarize the fit of the model**\n",
        "\n",
        "`print(metrics.classification_report(expected, predicted))`\n",
        "\n",
        "`print(metrics.confusion_matrix(expected, predicted))`"
      ]
    },
    {
      "metadata": {
        "id": "Cn1pvvJzFd94",
        "colab_type": "text"
      },
      "cell_type": "markdown",
      "source": [
        "**Who is using it?**\n",
        "\n",
        "* The scikit-learn testimonials page lists Inria, Mendeley, wise.io , Evernote, Telecom ParisTech and AWeber as users of the library.\n",
        "\n",
        "* If this is a small indication of companies that have presented on their use, then there are very likely tens to hundreds of larger organizations using the library.\n",
        "\n",
        "* It has good test coverage and managed releases and is suitable for prototype and production projects alike."
      ]
    },
    {
      "metadata": {
        "id": "d2eQgXeTAWd6",
        "colab_type": "code",
        "colab": {}
      },
      "cell_type": "code",
      "source": [
        "import sklearn.datasets\n",
        "import numpy as np"
      ],
      "execution_count": 0,
      "outputs": []
    },
    {
      "metadata": {
        "id": "6lyD-FevXtH5",
        "colab_type": "text"
      },
      "cell_type": "markdown",
      "source": [
        "# Loading dataset"
      ]
    },
    {
      "metadata": {
        "id": "5khmxMVTAqr3",
        "colab_type": "code",
        "colab": {}
      },
      "cell_type": "code",
      "source": [
        "# this is good example of real world dataset with practical relivance, one can use this detect the medical conditions using machine learing\n",
        "\n",
        "breast_cancer = sklearn.datasets.load_breast_cancer()"
      ],
      "execution_count": 0,
      "outputs": []
    },
    {
      "metadata": {
        "id": "ypeZOFDSHb_K",
        "colab_type": "code",
        "colab": {}
      },
      "cell_type": "code",
      "source": [
        "# 'X' as set of features for each sample and 'Y' as a class lable\n",
        "\n",
        "X = breast_cancer.data\n",
        "Y = breast_cancer.target\n"
      ],
      "execution_count": 0,
      "outputs": []
    },
    {
      "metadata": {
        "id": "oTmuLOg3Q5tw",
        "colab_type": "code",
        "outputId": "440cd8c0-3bbf-4096-9a0c-ac88a6014986",
        "colab": {
          "base_uri": "https://localhost:8080/"
        }
      },
      "cell_type": "code",
      "source": [
        "print(X)\n",
        "print(Y)"
      ],
      "execution_count": 0,
      "outputs": [
        {
          "output_type": "stream",
          "text": [
            "[[1.799e+01 1.038e+01 1.228e+02 ... 2.654e-01 4.601e-01 1.189e-01]\n",
            " [2.057e+01 1.777e+01 1.329e+02 ... 1.860e-01 2.750e-01 8.902e-02]\n",
            " [1.969e+01 2.125e+01 1.300e+02 ... 2.430e-01 3.613e-01 8.758e-02]\n",
            " ...\n",
            " [1.660e+01 2.808e+01 1.083e+02 ... 1.418e-01 2.218e-01 7.820e-02]\n",
            " [2.060e+01 2.933e+01 1.401e+02 ... 2.650e-01 4.087e-01 1.240e-01]\n",
            " [7.760e+00 2.454e+01 4.792e+01 ... 0.000e+00 2.871e-01 7.039e-02]]\n",
            "[0 0 0 0 0 0 0 0 0 0 0 0 0 0 0 0 0 0 0 1 1 1 0 0 0 0 0 0 0 0 0 0 0 0 0 0 0\n",
            " 1 0 0 0 0 0 0 0 0 1 0 1 1 1 1 1 0 0 1 0 0 1 1 1 1 0 1 0 0 1 1 1 1 0 1 0 0\n",
            " 1 0 1 0 0 1 1 1 0 0 1 0 0 0 1 1 1 0 1 1 0 0 1 1 1 0 0 1 1 1 1 0 1 1 0 1 1\n",
            " 1 1 1 1 1 1 0 0 0 1 0 0 1 1 1 0 0 1 0 1 0 0 1 0 0 1 1 0 1 1 0 1 1 1 1 0 1\n",
            " 1 1 1 1 1 1 1 1 0 1 1 1 1 0 0 1 0 1 1 0 0 1 1 0 0 1 1 1 1 0 1 1 0 0 0 1 0\n",
            " 1 0 1 1 1 0 1 1 0 0 1 0 0 0 0 1 0 0 0 1 0 1 0 1 1 0 1 0 0 0 0 1 1 0 0 1 1\n",
            " 1 0 1 1 1 1 1 0 0 1 1 0 1 1 0 0 1 0 1 1 1 1 0 1 1 1 1 1 0 1 0 0 0 0 0 0 0\n",
            " 0 0 0 0 0 0 0 1 1 1 1 1 1 0 1 0 1 1 0 1 1 0 1 0 0 1 1 1 1 1 1 1 1 1 1 1 1\n",
            " 1 0 1 1 0 1 0 1 1 1 1 1 1 1 1 1 1 1 1 1 1 0 1 1 1 0 1 0 1 1 1 1 0 0 0 1 1\n",
            " 1 1 0 1 0 1 0 1 1 1 0 1 1 1 1 1 1 1 0 0 0 1 1 1 1 1 1 1 1 1 1 1 0 0 1 0 0\n",
            " 0 1 0 0 1 1 1 1 1 0 1 1 1 1 1 0 1 1 1 0 1 1 0 0 1 1 1 1 1 1 0 1 1 1 1 1 1\n",
            " 1 0 1 1 1 1 1 0 1 1 0 1 1 1 1 1 1 1 1 1 1 1 1 0 1 0 0 1 0 1 1 1 1 1 0 1 1\n",
            " 0 1 0 1 1 0 1 0 1 1 1 1 1 1 1 1 0 0 1 1 1 1 1 1 0 1 1 1 1 1 1 1 1 1 1 0 1\n",
            " 1 1 1 1 1 1 0 1 0 1 1 0 1 1 1 1 1 0 0 1 0 1 0 1 1 1 1 1 0 1 1 0 1 0 1 0 0\n",
            " 1 1 1 0 1 1 1 1 1 1 1 1 1 1 1 0 1 0 0 1 1 1 1 1 1 1 1 1 1 1 1 1 1 1 1 1 1\n",
            " 1 1 1 1 1 1 1 0 0 0 0 0 0 1]\n"
          ],
          "name": "stdout"
        }
      ]
    },
    {
      "metadata": {
        "id": "b5DMjox4RFgk",
        "colab_type": "code",
        "colab": {}
      },
      "cell_type": "code",
      "source": [
        "print(X.shape, Y.shape)"
      ],
      "execution_count": 0,
      "outputs": []
    },
    {
      "metadata": {
        "id": "dKWwJNW-RRhr",
        "colab_type": "code",
        "colab": {}
      },
      "cell_type": "code",
      "source": [
        "import pandas as pd\n"
      ],
      "execution_count": 0,
      "outputs": []
    },
    {
      "metadata": {
        "id": "4pJfspSeSJCv",
        "colab_type": "code",
        "colab": {}
      },
      "cell_type": "code",
      "source": [
        "# Reading the data from the dataSet not as arrays but as  DataFrame\n",
        "\n",
        "data = pd.DataFrame(breast_cancer.data, columns=breast_cancer.feature_names)"
      ],
      "execution_count": 0,
      "outputs": []
    },
    {
      "metadata": {
        "id": "edRGtDgnRx64",
        "colab_type": "code",
        "colab": {}
      },
      "cell_type": "code",
      "source": [
        "data['class'] = breast_cancer.target "
      ],
      "execution_count": 0,
      "outputs": []
    },
    {
      "metadata": {
        "id": "NY_hE203SkpK",
        "colab_type": "code",
        "colab": {}
      },
      "cell_type": "code",
      "source": [
        "data.head()"
      ],
      "execution_count": 0,
      "outputs": []
    },
    {
      "metadata": {
        "id": "ya1O3LkPSo4U",
        "colab_type": "code",
        "colab": {}
      },
      "cell_type": "code",
      "source": [
        "data.describe()"
      ],
      "execution_count": 0,
      "outputs": []
    },
    {
      "metadata": {
        "id": "5MNK40iDS918",
        "colab_type": "code",
        "colab": {}
      },
      "cell_type": "code",
      "source": [
        "#  it shows for each value whats is the number of entries\n",
        "print(data['class'].value_counts())"
      ],
      "execution_count": 0,
      "outputs": []
    },
    {
      "metadata": {
        "id": "QRX_agvPTPPI",
        "colab_type": "code",
        "colab": {}
      },
      "cell_type": "code",
      "source": [
        "# what dose '1' and '0' here actually means\n",
        "\n",
        "print(breast_cancer.target_names)"
      ],
      "execution_count": 0,
      "outputs": []
    },
    {
      "metadata": {
        "id": "KkdkldCQTtef",
        "colab_type": "code",
        "colab": {}
      },
      "cell_type": "code",
      "source": [
        "# The mean used here is different form that in DataFrame 'here the mean is across the 357 values across mean radius'\n",
        "\n",
        "data.groupby('class').mean()"
      ],
      "execution_count": 0,
      "outputs": []
    },
    {
      "metadata": {
        "id": "AenXtWjYWa9H",
        "colab_type": "text"
      },
      "cell_type": "markdown",
      "source": [
        "Any groupby operation involves one of the following operations on the original object. They are −\n",
        "\n",
        "* **Splitting the Object**\n",
        "\n",
        "* **Applying a function**\n",
        "\n",
        "* **Combining the results**\n",
        "\n",
        "In many situations, we split the data into sets and we apply some functionality on each subset. In the apply functionality, we can perform the following operations −\n",
        "\n",
        "* **Aggregation** − computing a summary statistic\n",
        "\n",
        "* **Transformation** − perform some group-specific operation\n",
        "\n",
        "* **Filtration **− discarding the data with some condition "
      ]
    },
    {
      "metadata": {
        "id": "FFEobpRTYCCf",
        "colab_type": "text"
      },
      "cell_type": "markdown",
      "source": [
        "# Train test split"
      ]
    },
    {
      "metadata": {
        "id": "DPO_YhOiFaax",
        "colab_type": "code",
        "colab": {}
      },
      "cell_type": "code",
      "source": [
        "from sklearn.model_selection import train_test_split"
      ],
      "execution_count": 0,
      "outputs": []
    },
    {
      "metadata": {
        "id": "ehIKXtvEFue8",
        "colab_type": "code",
        "colab": {}
      },
      "cell_type": "code",
      "source": [
        "# importing and then applying to our data, reading 'X' & 'Y' from the data\n",
        "# droping the column so axis = 1, if its a row then axis = 0\n",
        "\n",
        "X = data.drop('class', axis=1)\n",
        "Y = data['class']"
      ],
      "execution_count": 0,
      "outputs": []
    },
    {
      "metadata": {
        "id": "KZFEXyGiG-Ak",
        "colab_type": "code",
        "colab": {}
      },
      "cell_type": "code",
      "source": [
        "type(X)"
      ],
      "execution_count": 0,
      "outputs": []
    },
    {
      "metadata": {
        "id": "bPD771uAHAHc",
        "colab_type": "code",
        "colab": {}
      },
      "cell_type": "code",
      "source": [
        "# spliliting 'x' and 'Y' , They both get split into test and train\n",
        "\n",
        "X_train, X_test, Y_train, Y_test = train_test_split(X, Y)"
      ],
      "execution_count": 0,
      "outputs": []
    },
    {
      "metadata": {
        "id": "KJ4m_BuHOklZ",
        "colab_type": "code",
        "colab": {}
      },
      "cell_type": "code",
      "source": [
        "# x  initially was 569 rows spliting into 426 train and 143 test same number of features\n",
        "# they are not spliting column wise  they are spliting row wise\n",
        "# 80 of data is for traning and rest 20 is for training\n",
        "\n",
        "print(X.shape, X_train.shape, X_test.shape)"
      ],
      "execution_count": 0,
      "outputs": []
    },
    {
      "metadata": {
        "id": "kueecf5kQzFW",
        "colab_type": "code",
        "colab": {}
      },
      "cell_type": "code",
      "source": [
        " \n",
        "X_train, X_test, Y_train, Y_test = train_test_split(X, Y, test_size=0.1)"
      ],
      "execution_count": 0,
      "outputs": []
    },
    {
      "metadata": {
        "id": "ahNtU3G7VKi-",
        "colab_type": "text"
      },
      "cell_type": "markdown",
      "source": [
        "when we need to split our  data into a training set (90%) and test set (10%). I currently do that with the code below:\n",
        "\n",
        "`X, Xt, userInfo, userInfo_train = sklearn.cross_validation.train_test_split(X, userInfo) `"
      ]
    },
    {
      "metadata": {
        "id": "yzNvD18ZSEWB",
        "colab_type": "code",
        "colab": {}
      },
      "cell_type": "code",
      "source": [
        "print(X.shape, X_train.shape, X_test.shape)"
      ],
      "execution_count": 0,
      "outputs": []
    },
    {
      "metadata": {
        "id": "fkx9GgR3SFUl",
        "colab_type": "code",
        "colab": {}
      },
      "cell_type": "code",
      "source": [
        "print(Y.shape, Y_train.shape, Y_test.shape)\n",
        "\n",
        "#split in the same ratio as the x- split"
      ],
      "execution_count": 0,
      "outputs": []
    },
    {
      "metadata": {
        "id": "CVs7biEeSNXT",
        "colab_type": "code",
        "colab": {}
      },
      "cell_type": "code",
      "source": [
        "# how many malignent and Banine\n",
        "print(Y.mean(), Y_train.mean(), Y_test.mean())\n"
      ],
      "execution_count": 0,
      "outputs": []
    },
    {
      "metadata": {
        "id": "aFS_55OnTL-1",
        "colab_type": "code",
        "colab": {}
      },
      "cell_type": "code",
      "source": [
        "# adding stratify is to ensure that the split maintain the ratio of malignent and banine\n",
        "\n",
        "X_train, X_test, Y_train, Y_test = train_test_split(X, Y, test_size=0.1, stratify = Y)"
      ],
      "execution_count": 0,
      "outputs": []
    },
    {
      "metadata": {
        "id": "ykeyvDE8V-PK",
        "colab_type": "text"
      },
      "cell_type": "markdown",
      "source": [
        "* If the number of values belonging to each class are unbalanced, using** stratified sampling** is a good thing. You are basically asking the model to take the training and test set such that the class proportion is same as of the whole dataset, which is the right thing to do. If your classes are balanced then a shuffle (no stratification needed here) can basically guarantee a fair test and train split.\n",
        "\n",
        "* Now your model will be capable or at least enough equipped to predict the outnumbered class (class with lesser points in number). That is why instead of just calculating Accuracy, you have been given other metrics like Sensitivity and Specificity. \n",
        "\n",
        "\n",
        "\n",
        "*   Stratified sampling has several advantages over simple random sampling. For example, using stratified sampling, it may be possible to reduce the sample size required to achieve a given precision. Or it may be possible to increase the precision with the same sample size.\n",
        "\n",
        "\n",
        "\n"
      ]
    },
    {
      "metadata": {
        "id": "84TapwlJT_-p",
        "colab_type": "code",
        "colab": {}
      },
      "cell_type": "code",
      "source": [
        "print(X.mean(), X_train.mean(), X_test.mean())"
      ],
      "execution_count": 0,
      "outputs": []
    },
    {
      "metadata": {
        "id": "vqHjpe6JW_vT",
        "colab_type": "code",
        "colab": {}
      },
      "cell_type": "code",
      "source": [
        "print(X_train.mean(), X_test.mean(), X.mean())"
      ],
      "execution_count": 0,
      "outputs": []
    },
    {
      "metadata": {
        "id": "4ollJmBfegnl",
        "colab_type": "text"
      },
      "cell_type": "markdown",
      "source": [
        "**with machine learning we want the result to be reproducable**\n",
        "\n",
        "https://determined.ai/blog/reproducibility-in-ml/\n",
        "\n",
        "**why reproducibility matters, what exactly makes it so hard?**\n",
        "\n",
        "Reproducibility is critical to industrial grade model development. Without it, data scientists risk claiming gains from changing one parameter without realizing that hidden sources of randomness are the real source of improvement. Reproducibility reduces or eliminates variations when rerunning failed jobs or prior experiments, making it essential in the context of fault tolerance and iterative refinement of models. This capability becomes increasingly important as sophisticated models and real-time data streams push us towards distributed training across clusters of GPUs. This shift not only multiplies the sources of non-determinism but also increases the need for both fault tolerance and iterative model development."
      ]
    },
    {
      "metadata": {
        "id": "vMH4F61XfnCo",
        "colab_type": "text"
      },
      "cell_type": "markdown",
      "source": [
        "* You’ve been handed your first project at your new job. The inference time on the existing ML model is too slow, so the team wants you to analyze the performance tradeoffs of a few different architectures. Can you shrink the network and still maintain acceptable accuracy?\n",
        "\n",
        "* The engineer who developed the original model is on leave for a few months, but not to worry, you’ve got the model source code and a pointer to the dataset. You’ve been told the model currently reports 30.3% error on the validation set and that the company isn’t willing to let that number creep above 33.0%.\n",
        "\n",
        "* You start by training a model from the existing architecture so you’ll have a baseline to compare against. After reading through the source, you launch your coworker’s training script and head home for the day, leaving it to run overnight.\n",
        "\n",
        "* The next day you return to a bizarre surprise: the model is reporting 52.8% validation error after 10,000 batches of training. Looking at the plot of your model’s validation error alongside that of your teammate leaves you scratching your head. How did the error rate increase before you even made any changes?"
      ]
    },
    {
      "metadata": {
        "id": "NorPPzo7f7bL",
        "colab_type": "text"
      },
      "cell_type": "markdown",
      "source": [
        "After some debugging, you find two glaring issues explaining the divergent model performance:\n",
        "\n",
        "\n",
        "\n",
        "1.  Additional training data: The team recently added several thousand images to the database. Since the root path to the data remained unchanged, the training script threw no warnings and included the new images in the dataset.\n",
        "2.  Inconsistent hyperparameters: The training script included default hyperparameter values (e.g. learning rate, dropout probabilities), but it also allowed users to specify them at runtime. Digging through your coworker’s results, you find the hyperparameters from the best of breed model don’t match the defaults.\n",
        "Having fixed these problems, you are confident your model, hyperparameters, and dataset now match exactly. You restart the training script, expecting to match the statistical performance of the baseline model. \n",
        "\n",
        "\n"
      ]
    },
    {
      "metadata": {
        "id": "y6yuUdoLgOQN",
        "colab_type": "text"
      },
      "cell_type": "markdown",
      "source": [
        "**Root Causes of Non-Determinism**\n",
        "\n",
        "Unfortunately, several sources contribute to run-to-run variation even when working with identical model code and training data. Here are some of the common causes:\n",
        "\n",
        "1.   **Random initialization of layer weights:** Many ML models set initial weight values by sampling from a particular distribution. This has been shown to increase the speed of convergence over initializing all weights to zeros [1, 2].\n",
        "\n",
        "2.   **Shuffling of datasets:** The dataset is often randomly shuffled at initialization. If the model is written to use a fixed range of the dataset for validation (e.g. the last 10%), the contents of this set will not be consistent across runs. Even if the validation set is fixed, shuffling within the training dataset affects the order in which the samples are iterated over, and consequently, how the model learns.\n",
        "\n",
        "3.  **Noisy hidden layers: **Certain NN architectures include layers with inherent randomness during training. Dropout layers, for example, exclude the contribution of a particular input node with probability p. While this may help prevent overfitting, it means the same input sample will produce different layer activations on any given iteration.\n",
        "\n",
        "4.  **Changes in ML frameworks:** Updates to ML libraries can lead to subtly different behavior across versions, while migrating a model from one framework to another can cause even bigger discrepancies. For example, Tensorflow warns its users to “rely on approximate accuracy, not on the specific bits computed” across versions. Keras will exhibit different behaviors if swapping between Theano and Tensorflow backends without taking the appropriate steps.\n",
        "\n",
        "\n",
        "\n",
        "5.   **Non-deterministic GPU floating point calculations**: Certain functions in cuDNN, the Nvidia Deep Neural Network library for GPUs, do not guarantee reproducibility across runs by default, including several convolutional operations. Furthermore, reproducibility is not guaranteed across different GPU architectures unless these operations are forcibly disabled by your ML library.\n",
        "\n",
        "6. ** CPU multi-threading:** For CPU training, TensorFlow by default configures thread pools with one thread per CPU core to parallelize computation. This parallelization happens both within execution of certain individual ops (intra_op_parallelism) as well as between graph operations deemed independent (inter_op_parallelism). While this speeds up training, the existing implementation introduces non-determinism.\n",
        "\n",
        "\n",
        "\n",
        "\n",
        "\n",
        "\n"
      ]
    },
    {
      "metadata": {
        "id": "a5nfzAZ3X01T",
        "colab_type": "code",
        "colab": {}
      },
      "cell_type": "code",
      "source": [
        "# To fix this  problem\n",
        "X_train, X_test, Y_train, Y_test = train_test_split(X, Y, test_size=0.1, stratify = Y, random_state = 1)"
      ],
      "execution_count": 0,
      "outputs": []
    },
    {
      "metadata": {
        "id": "kuiz63GLeDaF",
        "colab_type": "code",
        "colab": {}
      },
      "cell_type": "code",
      "source": [
        "# now the split will be deterministic\n",
        "# i.e no matter how many times we run this, it will split it in the same way\n",
        "# even after the colab is dis-connect and reconnect, the result will be the same\n",
        "\n",
        "\n",
        "print(X_train.mean(), X_test.mean(), X.mean())"
      ],
      "execution_count": 0,
      "outputs": []
    },
    {
      "metadata": {
        "id": "QqWCDz3wif6w",
        "colab_type": "code",
        "colab": {}
      },
      "cell_type": "code",
      "source": [
        "print(X.mean(), X_train.mean(), X_test.mean())"
      ],
      "execution_count": 0,
      "outputs": []
    },
    {
      "metadata": {
        "id": "Oyuq9r4SNm3A",
        "colab_type": "text"
      },
      "cell_type": "markdown",
      "source": [
        "# Binarisation of input"
      ]
    },
    {
      "metadata": {
        "id": "xpE5VxkDNumP",
        "colab_type": "code",
        "colab": {}
      },
      "cell_type": "code",
      "source": [
        "import matplotlib.pyplot as plt"
      ],
      "execution_count": 0,
      "outputs": []
    },
    {
      "metadata": {
        "id": "iJ9sxi7XOA0g",
        "colab_type": "code",
        "outputId": "24833296-4a26-42cb-d797-c7573079b77a",
        "colab": {
          "base_uri": "https://localhost:8080/"
        }
      },
      "cell_type": "code",
      "source": [
        "plt.plot(X_train, '*')"
      ],
      "execution_count": 0,
      "outputs": [
        {
          "output_type": "execute_result",
          "data": {
            "text/plain": [
              "[<matplotlib.lines.Line2D at 0x7f33f9130a20>,\n",
              " <matplotlib.lines.Line2D at 0x7f33f9130b70>,\n",
              " <matplotlib.lines.Line2D at 0x7f33f9130cf8>,\n",
              " <matplotlib.lines.Line2D at 0x7f33f9130e80>,\n",
              " <matplotlib.lines.Line2D at 0x7f33f913d048>,\n",
              " <matplotlib.lines.Line2D at 0x7f33f913d1d0>,\n",
              " <matplotlib.lines.Line2D at 0x7f33fd837710>,\n",
              " <matplotlib.lines.Line2D at 0x7f33f913d4a8>,\n",
              " <matplotlib.lines.Line2D at 0x7f33f913d630>,\n",
              " <matplotlib.lines.Line2D at 0x7f33f913d7b8>,\n",
              " <matplotlib.lines.Line2D at 0x7f33f913d940>,\n",
              " <matplotlib.lines.Line2D at 0x7f33f913dac8>,\n",
              " <matplotlib.lines.Line2D at 0x7f33f913dc50>,\n",
              " <matplotlib.lines.Line2D at 0x7f33f913ddd8>,\n",
              " <matplotlib.lines.Line2D at 0x7f33f913df60>,\n",
              " <matplotlib.lines.Line2D at 0x7f33f915e128>,\n",
              " <matplotlib.lines.Line2D at 0x7f33f915e2b0>,\n",
              " <matplotlib.lines.Line2D at 0x7f33f915e438>,\n",
              " <matplotlib.lines.Line2D at 0x7f33f915e5c0>,\n",
              " <matplotlib.lines.Line2D at 0x7f33f915e748>,\n",
              " <matplotlib.lines.Line2D at 0x7f33f915e8d0>,\n",
              " <matplotlib.lines.Line2D at 0x7f33f915ea58>,\n",
              " <matplotlib.lines.Line2D at 0x7f33f915ebe0>,\n",
              " <matplotlib.lines.Line2D at 0x7f33f915ed68>,\n",
              " <matplotlib.lines.Line2D at 0x7f33f915eef0>,\n",
              " <matplotlib.lines.Line2D at 0x7f33f95ad128>,\n",
              " <matplotlib.lines.Line2D at 0x7f33f95adef0>,\n",
              " <matplotlib.lines.Line2D at 0x7f33f95ad390>,\n",
              " <matplotlib.lines.Line2D at 0x7f33f95ad208>,\n",
              " <matplotlib.lines.Line2D at 0x7f33f95add30>]"
            ]
          },
          "metadata": {
            "tags": []
          },
          "execution_count": 107
        },
        {
          "output_type": "display_data",
          "data": {
            "image/png": "[encoded data removed]",
            "text/plain": [
              "<Figure size 576x396 with 1 Axes>"
            ]
          },
          "metadata": {
            "tags": []
          }
        }
      ]
    },
    {
      "metadata": {
        "id": "IBr-3TXGOJIH",
        "colab_type": "code",
        "outputId": "aaf74106-7728-4e9f-98ea-31c0114796ce",
        "colab": {
          "base_uri": "https://localhost:8080/",
          "height": 457
        }
      },
      "cell_type": "code",
      "source": [
        "plt.plot(X_train.T, '*')\n",
        "plt.xticks(rotation = 'vertical')\n",
        "plt.show"
      ],
      "execution_count": 0,
      "outputs": [
        {
          "output_type": "execute_result",
          "data": {
            "text/plain": [
              "<function matplotlib.pyplot.show>"
            ]
          },
          "metadata": {
            "tags": []
          },
          "execution_count": 108
        },
        {
          "output_type": "display_data",
          "data": {
            "image/png": "[encoded data removed]",
            "text/plain": [
              "<Figure size 576x396 with 1 Axes>"
            ]
          },
          "metadata": {
            "tags": []
          }
        }
      ]
    },
    {
      "metadata": {
        "id": "R2dCvVDBQ1f6",
        "colab_type": "text"
      },
      "cell_type": "markdown",
      "source": [
        "**lambda operato**r or **lambda function** is used for creating small, one-time and anonymous function objects in Python.\n",
        "\n",
        "**Basic syntax**\n",
        "\n",
        "`lambda arguments : expression`\n",
        "\n",
        "* lambda operator can have any number of arguments, but it can have only one expression. It cannot contain any statements and it returns a function object which can be assigned to any variable.\n",
        "\n",
        "**map Basic syntax**\n",
        "\n",
        "`map(function_object, iterable1, iterable2,...)`\n",
        "\n",
        "\n",
        "* map functions expects a function object and any number of iterables like list, dictionary, etc. It executes the function_object for each element in the sequence and returns a list of the elements modified by the function object."
      ]
    },
    {
      "metadata": {
        "id": "1VlSn7sjOeXC",
        "colab_type": "code",
        "colab": {}
      },
      "cell_type": "code",
      "source": [
        "# binarisation the lambda function\n",
        "\n",
        "X_binarised_3_train = X_train['mean area'].map(lambda x: 0 if x < 1000 else 1)\n"
      ],
      "execution_count": 0,
      "outputs": []
    },
    {
      "metadata": {
        "id": "EALthfcRQeqX",
        "colab_type": "code",
        "outputId": "37c2e7f4-8ef6-4770-ea88-8f57107ad3cf",
        "colab": {
          "base_uri": "https://localhost:8080/",
          "height": 364
        }
      },
      "cell_type": "code",
      "source": [
        "plt.plot(X_binarised_3_train, '*')"
      ],
      "execution_count": 0,
      "outputs": [
        {
          "output_type": "execute_result",
          "data": {
            "text/plain": [
              "[<matplotlib.lines.Line2D at 0x7f33f967b908>]"
            ]
          },
          "metadata": {
            "tags": []
          },
          "execution_count": 110
        },
        {
          "output_type": "display_data",
          "data": {
            "image/png": "[encoded data removed]",
            "text/plain": [
              "<Figure size 576x396 with 1 Axes>"
            ]
          },
          "metadata": {
            "tags": []
          }
        }
      ]
    },
    {
      "metadata": {
        "id": "0G0KdgCbQfbx",
        "colab_type": "code",
        "colab": {}
      },
      "cell_type": "code",
      "source": [
        "X_binarised_train = X_train.apply(pd.cut, bins=2, labels=[1,0])"
      ],
      "execution_count": 0,
      "outputs": []
    },
    {
      "metadata": {
        "id": "IB4MjgQEkf3n",
        "colab_type": "text"
      },
      "cell_type": "markdown",
      "source": [
        ""
      ]
    },
    {
      "metadata": {
        "id": "354P_B0LTgQd",
        "colab_type": "code",
        "outputId": "eda9c4dd-d2ae-4888-b2de-21c270f357f2",
        "colab": {
          "base_uri": "https://localhost:8080/",
          "height": 440
        }
      },
      "cell_type": "code",
      "source": [
        "plt.plot(X_binarised_train.T, '*')\n",
        "plt.xticks(rotation='vertical')\n",
        "plt.show()"
      ],
      "execution_count": 0,
      "outputs": [
        {
          "output_type": "display_data",
          "data": {
            "image/png": "[encoded data removed]",
            "text/plain": [
              "<Figure size 576x396 with 1 Axes>"
            ]
          },
          "metadata": {
            "tags": []
          }
        }
      ]
    },
    {
      "metadata": {
        "id": "jktdDZhLT3oI",
        "colab_type": "code",
        "colab": {}
      },
      "cell_type": "code",
      "source": [
        "# Doing same thing for test data \n",
        "\n",
        "X_binarised_test = X_test.apply(pd.cut, bins=2, labels=[1,0])"
      ],
      "execution_count": 0,
      "outputs": []
    },
    {
      "metadata": {
        "id": "i_PDvQMmUG3p",
        "colab_type": "code",
        "outputId": "2742f357-0b47-453b-a782-c56685900b1d",
        "colab": {
          "base_uri": "https://localhost:8080/",
          "height": 34
        }
      },
      "cell_type": "code",
      "source": [
        "type(X_binarised_test)"
      ],
      "execution_count": 0,
      "outputs": [
        {
          "output_type": "execute_result",
          "data": {
            "text/plain": [
              "pandas.core.frame.DataFrame"
            ]
          },
          "metadata": {
            "tags": []
          },
          "execution_count": 114
        }
      ]
    },
    {
      "metadata": {
        "id": "mpAxo-SzUeki",
        "colab_type": "text"
      },
      "cell_type": "markdown",
      "source": [
        "**Now we move on to the algorithm, but before that we have to convet them to the numpy arrays**"
      ]
    },
    {
      "metadata": {
        "id": "G9tjMfx1UJXr",
        "colab_type": "code",
        "colab": {}
      },
      "cell_type": "code",
      "source": [
        "X_binarised_test = X_binarised_test.values\n",
        "X_binarised_train = X_binarised_train.values"
      ],
      "execution_count": 0,
      "outputs": []
    },
    {
      "metadata": {
        "id": "dmLGwmjoU--1",
        "colab_type": "code",
        "outputId": "85becbcf-2b03-4958-929b-0ee1a2c1bc35",
        "colab": {
          "base_uri": "https://localhost:8080/",
          "height": 34
        }
      },
      "cell_type": "code",
      "source": [
        "type(X_binarised_test)"
      ],
      "execution_count": 0,
      "outputs": [
        {
          "output_type": "execute_result",
          "data": {
            "text/plain": [
              "numpy.ndarray"
            ]
          },
          "metadata": {
            "tags": []
          },
          "execution_count": 116
        }
      ]
    },
    {
      "metadata": {
        "colab_type": "text",
        "id": "gKM9_FI8rjqV"
      },
      "cell_type": "markdown",
      "source": [
        "  * '**w**' will be an array & '**b**' will be an scalar\n",
        "  *   `def predict(self, X)`: take vector of 'X' as a input and give vector of 'Y' as a output\n",
        "  \n",
        "  * ` def fit(self, X, Y):`  For MP Neuron since we have only one fucion as 'b' so fit function simply went threw  all possible values of 'b'. where as in the case of Percrepton, we have to find out all possible combination of 'w' & 'b'. So here brute fource apporch is not possible becoz here  the number of parameter and their range is very large, so loop like MP Neuron is not possible . Hence here we have an learning algorithm\n",
        "  \n",
        "  \n",
        "  \n",
        "  * `def fit(self, X, Y):`   ---->initilizing our values\n",
        "  \n",
        "    `self.w = np.ones(X.shape[1])`   \n",
        "    \n",
        "    `self.b = 0`   \n",
        "    \n",
        "    \n",
        "    \n",
        " *  '0' gives number of 'Rows' where as '1' give  you the number of 'column'\n",
        " \n",
        " \n",
        "   \n",
        "  * Algo is taken from lecture, initilize values are taken we like to threw a loop to change these values\n",
        "  \n",
        "  * when we want to go threw 'X' and 'Y' simultaneously together  we use ZIP\n",
        "    \n",
        "    \n",
        "\n",
        "\n"
      ]
    }
  ]
}